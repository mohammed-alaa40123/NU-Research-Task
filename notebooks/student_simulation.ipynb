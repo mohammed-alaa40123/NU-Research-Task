{
 "cells": [
  {
   "cell_type": "markdown",
   "id": "da9b8393",
   "metadata": {},
   "source": [
    "# Student Simulation and Analysis\n",
    "\n",
    "This notebook demonstrates the generation and analysis of 100 simulated student profiles for the AI academic advising system.\n",
    "\n",
    "## Overview\n",
    "- **Student Generation**: Create diverse student profiles with realistic academic histories\n",
    "- **Cohort Analysis**: Statistical analysis of the student population\n",
    "- **Individual Profiles**: Deep dive into specific student cases\n",
    "- **Recommendation Scenarios**: Test course recommendation scenarios\n",
    "- **Performance Metrics**: Evaluate student success patterns"
   ]
  },
  {
   "cell_type": "markdown",
   "id": "1945df06",
   "metadata": {},
   "source": [
    "## Statistical Distributions Used in Student Simulation\n",
    "\n",
    "The student data generation process uses several statistical distributions to create realistic and diverse student profiles:\n",
    "\n",
    "### 📊 **Grade Simulation**\n",
    "- **Distribution**: Normal Distribution\n",
    "- **Parameters**: \n",
    "  - Mean varies by course difficulty: Beginner (3.2), Intermediate (2.9), Advanced (2.7)\n",
    "  - Standard deviation varies by difficulty: Beginner (0.6), Intermediate (0.8), Advanced (0.9)\n",
    "- **Adjustments**: \n",
    "  - Interest boost: ±0.8 based on student's domain interest (0-1 scale)\n",
    "  - Ability boost: ±1.0 based on student's inherent ability (0-1 scale)\n",
    "- **Range**: Clamped to valid GPA range [0.0, 4.0]\n",
    "\n",
    "### 🎯 **Student Interests**\n",
    "- **Distribution**: Uniform Distribution\n",
    "- **Primary interests**: 1-3 domains per student with interest level [0.7, 1.0]\n",
    "- **Secondary interests**: Remaining domains with interest level [0.1, 0.5]\n",
    "- **Domains**: AI, Security, Data Science, Software Engineering, Systems, Theory\n",
    "\n",
    "### 🧠 **Student Ability**\n",
    "- **Distribution**: Beta Distribution with parameters α=2, β=2\n",
    "- **Shape**: Bell-shaped, centered around 0.5\n",
    "- **Range**: [0, 1] representing inherent academic ability\n",
    "- **Effect**: Influences grade performance across all courses\n",
    "\n",
    "### 📚 **Course Selection**\n",
    "- **Distribution**: Weighted selection based on interest scores\n",
    "- **Factors**: Domain interest + term appropriateness + random variation\n",
    "- **Constraints**: Prerequisites must be satisfied, failed courses excluded\n",
    "\n",
    "### 🎓 **Academic Progression**\n",
    "- **Terms**: Variable progression (1-8 terms) with 10% early stop probability after term 4\n",
    "- **Courses per term**: Random integer [3, 5] courses\n",
    "- **Failure threshold**: Grades below 2.0 are considered failed\n",
    "\n",
    "These distributions ensure realistic diversity in student profiles while maintaining academic constraints and logical progression patterns."
   ]
  },
  {
   "cell_type": "code",
   "execution_count": 1,
   "id": "9e2f959b",
   "metadata": {},
   "outputs": [
    {
     "name": "stdout",
     "output_type": "stream",
     "text": [
      "✓ Libraries imported successfully\n",
      "✓ Random seed set for reproducibility\n"
     ]
    }
   ],
   "source": [
    "# Import Required Libraries\n",
    "import sys\n",
    "import os\n",
    "sys.path.append('../')\n",
    "\n",
    "import pandas as pd\n",
    "import numpy as np\n",
    "import matplotlib.pyplot as plt\n",
    "import seaborn as sns\n",
    "import plotly.express as px\n",
    "import plotly.graph_objects as go\n",
    "from plotly.subplots import make_subplots\n",
    "import warnings\n",
    "warnings.filterwarnings('ignore')\n",
    "\n",
    "# Project modules\n",
    "from src.curriculum_graph import create_sample_curriculum\n",
    "from src.student_simulation import StudentSimulator, create_student_cohort\n",
    "from src.constraints import create_constraint_validator\n",
    "from src.visualization import create_visualizer\n",
    "\n",
    "# Configuration\n",
    "plt.style.use('seaborn-v0_8')\n",
    "sns.set_palette(\"husl\")\n",
    "np.random.seed(42)  # For reproducible results\n",
    "\n",
    "print(\"✓ Libraries imported successfully\")\n",
    "print(\"✓ Random seed set for reproducibility\")"
   ]
  },
  {
   "cell_type": "code",
   "execution_count": 2,
   "id": "fed2a8ff",
   "metadata": {},
   "outputs": [
    {
     "name": "stdout",
     "output_type": "stream",
     "text": [
      "Generating AI Curriculum Planner components...\n",
      "✓ Curriculum loaded with 34 courses\n",
      "Generating 100 student profiles...\n",
      "✓ Generated 100 student profiles\n",
      "\n",
      "============================================================\n",
      "STUDENT COHORT OVERVIEW\n",
      "============================================================\n",
      "Total Students: 100\n",
      "\n",
      "📊 GPA STATISTICS\n",
      "  Mean GPA: 3.12\n",
      "  GPA Range: 2.53 - 4.00\n",
      "  GPA Std Dev: 0.25\n",
      "\n",
      "📚 ACADEMIC PROGRESS\n",
      "  Average Courses Completed: 20.1\n",
      "  Range: 2 - 33 courses\n",
      "  Average Current Term: 6.2\n",
      "\n",
      "🎯 ACADEMIC STANDING\n",
      "  Good: 29 students (29.0%)\n",
      "  Warning: 71 students (71.0%)\n",
      "  Probation: 0 students (0.0%)\n",
      "\n",
      "🏆 INTEREST DISTRIBUTION\n",
      "  AI:\n",
      "    Average Interest: 0.48\n",
      "    High Interest Students: 32\n",
      "  Security:\n",
      "    Average Interest: 0.51\n",
      "    High Interest Students: 38\n",
      "  Data Science:\n",
      "    Average Interest: 0.50\n",
      "    High Interest Students: 37\n",
      "  Software Engineering:\n",
      "    Average Interest: 0.48\n",
      "    High Interest Students: 31\n",
      "  Systems:\n",
      "    Average Interest: 0.51\n",
      "    High Interest Students: 35\n",
      "  Theory:\n",
      "    Average Interest: 0.45\n",
      "    High Interest Students: 31\n",
      "\n",
      "✓ Cohort generation and analysis complete!\n"
     ]
    }
   ],
   "source": [
    "# Generate Student Cohort\n",
    "print(\"Generating AI Curriculum Planner components...\")\n",
    "\n",
    "# Initialize system\n",
    "curriculum = create_sample_curriculum()\n",
    "simulator = StudentSimulator(curriculum)\n",
    "\n",
    "print(f\"✓ Curriculum loaded with {len(curriculum.graph.nodes())} courses\")\n",
    "\n",
    "# Generate 100 diverse students\n",
    "print(\"Generating 100 student profiles...\")\n",
    "students = simulator.generate_cohort(100)\n",
    "\n",
    "print(f\"✓ Generated {len(students)} student profiles\")\n",
    "\n",
    "# Get cohort statistics\n",
    "stats = simulator.get_cohort_statistics(students)\n",
    "\n",
    "print(\"\\n\" + \"=\"*60)\n",
    "print(\"STUDENT COHORT OVERVIEW\")\n",
    "print(\"=\"*60)\n",
    "print(f\"Total Students: {stats['total_students']}\")\n",
    "print(f\"\\n📊 GPA STATISTICS\")\n",
    "print(f\"  Mean GPA: {stats['gpa_stats']['mean']:.2f}\")\n",
    "print(f\"  GPA Range: {stats['gpa_stats']['min']:.2f} - {stats['gpa_stats']['max']:.2f}\")\n",
    "print(f\"  GPA Std Dev: {stats['gpa_stats']['std']:.2f}\")\n",
    "\n",
    "print(f\"\\n📚 ACADEMIC PROGRESS\")\n",
    "print(f\"  Average Courses Completed: {stats['courses_completed']['mean']:.1f}\")\n",
    "print(f\"  Range: {stats['courses_completed']['min']} - {stats['courses_completed']['max']} courses\")\n",
    "print(f\"  Average Current Term: {stats['term_stats']['mean']:.1f}\")\n",
    "\n",
    "print(f\"\\n🎯 ACADEMIC STANDING\")\n",
    "for standing, count in stats['academic_standing'].items():\n",
    "    percentage = (count / stats['total_students']) * 100\n",
    "    print(f\"  {standing}: {count} students ({percentage:.1f}%)\")\n",
    "\n",
    "print(f\"\\n🏆 INTEREST DISTRIBUTION\")\n",
    "for domain, info in stats['interest_distribution'].items():\n",
    "    print(f\"  {domain}:\")\n",
    "    print(f\"    Average Interest: {info['mean']:.2f}\")\n",
    "    print(f\"    High Interest Students: {info['high_interest_students']}\")\n",
    "\n",
    "print(\"\\n✓ Cohort generation and analysis complete!\")"
   ]
  },
  {
   "cell_type": "markdown",
   "id": "bc12e2ed",
   "metadata": {},
   "source": [
    "## 1. Student Cohort Visualization\n",
    "\n",
    "Let's visualize the characteristics of our simulated student population to understand the diversity and realism of the generated profiles."
   ]
  },
  {
   "cell_type": "code",
   "execution_count": 3,
   "id": "47737595",
   "metadata": {},
   "outputs": [
    {
     "data": {
      "application/vnd.plotly.v1+json": {
       "config": {
        "plotlyServerURL": "https://plot.ly"
       },
       "data": [
        {
         "marker": {
          "color": "lightblue"
         },
         "name": "GPA Distribution",
         "nbinsx": 20,
         "showlegend": false,
         "type": "histogram",
         "x": [
          2.94,
          3.03,
          3.04,
          2.97,
          3.28,
          2.86,
          3.18,
          2.85,
          3.27,
          4,
          3.27,
          3.01,
          3.23,
          3.45,
          2.92,
          3.15,
          2.74,
          3.32,
          2.88,
          3.26,
          3.05,
          2.6,
          3.23,
          3.24,
          2.96,
          3.31,
          2.87,
          3.27,
          2.77,
          2.97,
          3.18,
          2.96,
          3.24,
          3.08,
          2.87,
          3.11,
          3.45,
          3.16,
          2.99,
          4,
          3.16,
          2.9,
          3.13,
          3.22,
          2.53,
          3.29,
          3.08,
          4,
          2.98,
          3.04,
          3.1,
          3.12,
          3.3,
          2.69,
          2.87,
          3.21,
          3.69,
          3.05,
          3.14,
          2.75,
          3.05,
          3.07,
          3.21,
          3.04,
          3.23,
          3.07,
          3.08,
          2.78,
          2.96,
          3.09,
          3.16,
          2.77,
          3.22,
          3.2,
          3.56,
          3.09,
          3.28,
          2.75,
          3.5,
          3.23,
          3.02,
          3.36,
          3.19,
          3.13,
          2.91,
          2.94,
          2.87,
          3.28,
          3.27,
          3.33,
          3.16,
          3.22,
          3.1,
          3.1,
          3.18,
          2.87,
          3.13,
          3.32,
          3.12,
          2.79
         ],
         "xaxis": "x",
         "yaxis": "y"
        },
        {
         "domain": {
          "x": [
           0.55,
           1
          ],
          "y": [
           0.7777777777777778,
           1
          ]
         },
         "labels": [
          "Warning",
          "Good"
         ],
         "name": "Academic Standing",
         "showlegend": false,
         "type": "pie",
         "values": [
          71,
          29
         ]
        },
        {
         "marker": {
          "color": "lightgreen"
         },
         "name": "Courses Completed",
         "nbinsx": 15,
         "showlegend": false,
         "type": "histogram",
         "x": [
          21,
          24,
          21,
          25,
          14,
          26,
          19,
          22,
          29,
          2,
          13,
          18,
          21,
          23,
          29,
          27,
          23,
          22,
          29,
          30,
          12,
          2,
          2,
          31,
          25,
          31,
          8,
          2,
          27,
          16,
          22,
          24,
          33,
          29,
          29,
          13,
          2,
          30,
          16,
          2,
          25,
          21,
          21,
          28,
          2,
          15,
          29,
          2,
          26,
          25,
          28,
          14,
          22,
          14,
          24,
          30,
          2,
          29,
          12,
          7,
          12,
          30,
          27,
          23,
          26,
          18,
          28,
          17,
          15,
          15,
          33,
          24,
          14,
          31,
          14,
          30,
          20,
          22,
          15,
          27,
          29,
          16,
          25,
          29,
          19,
          20,
          25,
          25,
          2,
          28,
          15,
          2,
          31,
          25,
          12,
          14,
          25,
          27,
          19,
          15
         ],
         "xaxis": "x2",
         "yaxis": "y2"
        },
        {
         "marker": {
          "color": "lightcoral"
         },
         "name": "Current Term",
         "nbinsx": 10,
         "showlegend": false,
         "type": "histogram",
         "x": [
          7,
          8,
          8,
          8,
          4,
          8,
          5,
          7,
          8,
          2,
          5,
          7,
          5,
          8,
          8,
          7,
          8,
          6,
          8,
          8,
          4,
          2,
          2,
          8,
          8,
          8,
          4,
          2,
          8,
          6,
          8,
          8,
          8,
          8,
          8,
          4,
          2,
          8,
          6,
          2,
          8,
          7,
          6,
          8,
          2,
          4,
          8,
          2,
          7,
          8,
          8,
          4,
          8,
          6,
          8,
          8,
          2,
          8,
          5,
          4,
          4,
          8,
          8,
          6,
          8,
          5,
          8,
          4,
          6,
          4,
          8,
          8,
          4,
          8,
          5,
          8,
          6,
          6,
          5,
          8,
          8,
          7,
          8,
          8,
          7,
          7,
          8,
          8,
          2,
          8,
          4,
          2,
          8,
          6,
          5,
          4,
          8,
          8,
          6,
          6
         ],
         "xaxis": "x3",
         "yaxis": "y3"
        },
        {
         "marker": {
          "color": "gold"
         },
         "name": "Average Interest",
         "showlegend": false,
         "type": "bar",
         "x": [
          "AI",
          "Security",
          "Data Science",
          "Software Engineering",
          "Systems",
          "Theory"
         ],
         "xaxis": "x4",
         "y": [
          0.4832765400683206,
          0.5051856124103633,
          0.5035361654255452,
          0.475694021511927,
          0.5053583087210898,
          0.4497793658363651
         ],
         "yaxis": "y4"
        },
        {
         "marker": {
          "color": "purple",
          "opacity": 0.6,
          "size": 8
         },
         "mode": "markers",
         "name": "GPA vs Courses",
         "showlegend": false,
         "type": "scatter",
         "x": [
          21,
          24,
          21,
          25,
          14,
          26,
          19,
          22,
          29,
          2,
          13,
          18,
          21,
          23,
          29,
          27,
          23,
          22,
          29,
          30,
          12,
          2,
          2,
          31,
          25,
          31,
          8,
          2,
          27,
          16,
          22,
          24,
          33,
          29,
          29,
          13,
          2,
          30,
          16,
          2,
          25,
          21,
          21,
          28,
          2,
          15,
          29,
          2,
          26,
          25,
          28,
          14,
          22,
          14,
          24,
          30,
          2,
          29,
          12,
          7,
          12,
          30,
          27,
          23,
          26,
          18,
          28,
          17,
          15,
          15,
          33,
          24,
          14,
          31,
          14,
          30,
          20,
          22,
          15,
          27,
          29,
          16,
          25,
          29,
          19,
          20,
          25,
          25,
          2,
          28,
          15,
          2,
          31,
          25,
          12,
          14,
          25,
          27,
          19,
          15
         ],
         "xaxis": "x5",
         "y": [
          2.94,
          3.03,
          3.04,
          2.97,
          3.28,
          2.86,
          3.18,
          2.85,
          3.27,
          4,
          3.27,
          3.01,
          3.23,
          3.45,
          2.92,
          3.15,
          2.74,
          3.32,
          2.88,
          3.26,
          3.05,
          2.6,
          3.23,
          3.24,
          2.96,
          3.31,
          2.87,
          3.27,
          2.77,
          2.97,
          3.18,
          2.96,
          3.24,
          3.08,
          2.87,
          3.11,
          3.45,
          3.16,
          2.99,
          4,
          3.16,
          2.9,
          3.13,
          3.22,
          2.53,
          3.29,
          3.08,
          4,
          2.98,
          3.04,
          3.1,
          3.12,
          3.3,
          2.69,
          2.87,
          3.21,
          3.69,
          3.05,
          3.14,
          2.75,
          3.05,
          3.07,
          3.21,
          3.04,
          3.23,
          3.07,
          3.08,
          2.78,
          2.96,
          3.09,
          3.16,
          2.77,
          3.22,
          3.2,
          3.56,
          3.09,
          3.28,
          2.75,
          3.5,
          3.23,
          3.02,
          3.36,
          3.19,
          3.13,
          2.91,
          2.94,
          2.87,
          3.28,
          3.27,
          3.33,
          3.16,
          3.22,
          3.1,
          3.1,
          3.18,
          2.87,
          3.13,
          3.32,
          3.12,
          2.79
         ],
         "yaxis": "y5"
        }
       ],
       "layout": {
        "annotations": [
         {
          "font": {
           "size": 16
          },
          "showarrow": false,
          "text": "GPA Distribution",
          "x": 0.225,
          "xanchor": "center",
          "xref": "paper",
          "y": 1,
          "yanchor": "bottom",
          "yref": "paper"
         },
         {
          "font": {
           "size": 16
          },
          "showarrow": false,
          "text": "Academic Standing Distribution",
          "x": 0.775,
          "xanchor": "center",
          "xref": "paper",
          "y": 1,
          "yanchor": "bottom",
          "yref": "paper"
         },
         {
          "font": {
           "size": 16
          },
          "showarrow": false,
          "text": "Courses Completed Distribution",
          "x": 0.225,
          "xanchor": "center",
          "xref": "paper",
          "y": 0.6111111111111112,
          "yanchor": "bottom",
          "yref": "paper"
         },
         {
          "font": {
           "size": 16
          },
          "showarrow": false,
          "text": "Current Term Distribution",
          "x": 0.775,
          "xanchor": "center",
          "xref": "paper",
          "y": 0.6111111111111112,
          "yanchor": "bottom",
          "yref": "paper"
         },
         {
          "font": {
           "size": 16
          },
          "showarrow": false,
          "text": "Interest Distribution by Domain",
          "x": 0.225,
          "xanchor": "center",
          "xref": "paper",
          "y": 0.22222222222222224,
          "yanchor": "bottom",
          "yref": "paper"
         },
         {
          "font": {
           "size": 16
          },
          "showarrow": false,
          "text": "GPA vs Courses Completed",
          "x": 0.775,
          "xanchor": "center",
          "xref": "paper",
          "y": 0.22222222222222224,
          "yanchor": "bottom",
          "yref": "paper"
         }
        ],
        "height": 1000,
        "showlegend": false,
        "template": {
         "data": {
          "bar": [
           {
            "error_x": {
             "color": "#2a3f5f"
            },
            "error_y": {
             "color": "#2a3f5f"
            },
            "marker": {
             "line": {
              "color": "#E5ECF6",
              "width": 0.5
             },
             "pattern": {
              "fillmode": "overlay",
              "size": 10,
              "solidity": 0.2
             }
            },
            "type": "bar"
           }
          ],
          "barpolar": [
           {
            "marker": {
             "line": {
              "color": "#E5ECF6",
              "width": 0.5
             },
             "pattern": {
              "fillmode": "overlay",
              "size": 10,
              "solidity": 0.2
             }
            },
            "type": "barpolar"
           }
          ],
          "carpet": [
           {
            "aaxis": {
             "endlinecolor": "#2a3f5f",
             "gridcolor": "white",
             "linecolor": "white",
             "minorgridcolor": "white",
             "startlinecolor": "#2a3f5f"
            },
            "baxis": {
             "endlinecolor": "#2a3f5f",
             "gridcolor": "white",
             "linecolor": "white",
             "minorgridcolor": "white",
             "startlinecolor": "#2a3f5f"
            },
            "type": "carpet"
           }
          ],
          "choropleth": [
           {
            "colorbar": {
             "outlinewidth": 0,
             "ticks": ""
            },
            "type": "choropleth"
           }
          ],
          "contour": [
           {
            "colorbar": {
             "outlinewidth": 0,
             "ticks": ""
            },
            "colorscale": [
             [
              0,
              "#0d0887"
             ],
             [
              0.1111111111111111,
              "#46039f"
             ],
             [
              0.2222222222222222,
              "#7201a8"
             ],
             [
              0.3333333333333333,
              "#9c179e"
             ],
             [
              0.4444444444444444,
              "#bd3786"
             ],
             [
              0.5555555555555556,
              "#d8576b"
             ],
             [
              0.6666666666666666,
              "#ed7953"
             ],
             [
              0.7777777777777778,
              "#fb9f3a"
             ],
             [
              0.8888888888888888,
              "#fdca26"
             ],
             [
              1,
              "#f0f921"
             ]
            ],
            "type": "contour"
           }
          ],
          "contourcarpet": [
           {
            "colorbar": {
             "outlinewidth": 0,
             "ticks": ""
            },
            "type": "contourcarpet"
           }
          ],
          "heatmap": [
           {
            "colorbar": {
             "outlinewidth": 0,
             "ticks": ""
            },
            "colorscale": [
             [
              0,
              "#0d0887"
             ],
             [
              0.1111111111111111,
              "#46039f"
             ],
             [
              0.2222222222222222,
              "#7201a8"
             ],
             [
              0.3333333333333333,
              "#9c179e"
             ],
             [
              0.4444444444444444,
              "#bd3786"
             ],
             [
              0.5555555555555556,
              "#d8576b"
             ],
             [
              0.6666666666666666,
              "#ed7953"
             ],
             [
              0.7777777777777778,
              "#fb9f3a"
             ],
             [
              0.8888888888888888,
              "#fdca26"
             ],
             [
              1,
              "#f0f921"
             ]
            ],
            "type": "heatmap"
           }
          ],
          "heatmapgl": [
           {
            "colorbar": {
             "outlinewidth": 0,
             "ticks": ""
            },
            "colorscale": [
             [
              0,
              "#0d0887"
             ],
             [
              0.1111111111111111,
              "#46039f"
             ],
             [
              0.2222222222222222,
              "#7201a8"
             ],
             [
              0.3333333333333333,
              "#9c179e"
             ],
             [
              0.4444444444444444,
              "#bd3786"
             ],
             [
              0.5555555555555556,
              "#d8576b"
             ],
             [
              0.6666666666666666,
              "#ed7953"
             ],
             [
              0.7777777777777778,
              "#fb9f3a"
             ],
             [
              0.8888888888888888,
              "#fdca26"
             ],
             [
              1,
              "#f0f921"
             ]
            ],
            "type": "heatmapgl"
           }
          ],
          "histogram": [
           {
            "marker": {
             "pattern": {
              "fillmode": "overlay",
              "size": 10,
              "solidity": 0.2
             }
            },
            "type": "histogram"
           }
          ],
          "histogram2d": [
           {
            "colorbar": {
             "outlinewidth": 0,
             "ticks": ""
            },
            "colorscale": [
             [
              0,
              "#0d0887"
             ],
             [
              0.1111111111111111,
              "#46039f"
             ],
             [
              0.2222222222222222,
              "#7201a8"
             ],
             [
              0.3333333333333333,
              "#9c179e"
             ],
             [
              0.4444444444444444,
              "#bd3786"
             ],
             [
              0.5555555555555556,
              "#d8576b"
             ],
             [
              0.6666666666666666,
              "#ed7953"
             ],
             [
              0.7777777777777778,
              "#fb9f3a"
             ],
             [
              0.8888888888888888,
              "#fdca26"
             ],
             [
              1,
              "#f0f921"
             ]
            ],
            "type": "histogram2d"
           }
          ],
          "histogram2dcontour": [
           {
            "colorbar": {
             "outlinewidth": 0,
             "ticks": ""
            },
            "colorscale": [
             [
              0,
              "#0d0887"
             ],
             [
              0.1111111111111111,
              "#46039f"
             ],
             [
              0.2222222222222222,
              "#7201a8"
             ],
             [
              0.3333333333333333,
              "#9c179e"
             ],
             [
              0.4444444444444444,
              "#bd3786"
             ],
             [
              0.5555555555555556,
              "#d8576b"
             ],
             [
              0.6666666666666666,
              "#ed7953"
             ],
             [
              0.7777777777777778,
              "#fb9f3a"
             ],
             [
              0.8888888888888888,
              "#fdca26"
             ],
             [
              1,
              "#f0f921"
             ]
            ],
            "type": "histogram2dcontour"
           }
          ],
          "mesh3d": [
           {
            "colorbar": {
             "outlinewidth": 0,
             "ticks": ""
            },
            "type": "mesh3d"
           }
          ],
          "parcoords": [
           {
            "line": {
             "colorbar": {
              "outlinewidth": 0,
              "ticks": ""
             }
            },
            "type": "parcoords"
           }
          ],
          "pie": [
           {
            "automargin": true,
            "type": "pie"
           }
          ],
          "scatter": [
           {
            "fillpattern": {
             "fillmode": "overlay",
             "size": 10,
             "solidity": 0.2
            },
            "type": "scatter"
           }
          ],
          "scatter3d": [
           {
            "line": {
             "colorbar": {
              "outlinewidth": 0,
              "ticks": ""
             }
            },
            "marker": {
             "colorbar": {
              "outlinewidth": 0,
              "ticks": ""
             }
            },
            "type": "scatter3d"
           }
          ],
          "scattercarpet": [
           {
            "marker": {
             "colorbar": {
              "outlinewidth": 0,
              "ticks": ""
             }
            },
            "type": "scattercarpet"
           }
          ],
          "scattergeo": [
           {
            "marker": {
             "colorbar": {
              "outlinewidth": 0,
              "ticks": ""
             }
            },
            "type": "scattergeo"
           }
          ],
          "scattergl": [
           {
            "marker": {
             "colorbar": {
              "outlinewidth": 0,
              "ticks": ""
             }
            },
            "type": "scattergl"
           }
          ],
          "scattermapbox": [
           {
            "marker": {
             "colorbar": {
              "outlinewidth": 0,
              "ticks": ""
             }
            },
            "type": "scattermapbox"
           }
          ],
          "scatterpolar": [
           {
            "marker": {
             "colorbar": {
              "outlinewidth": 0,
              "ticks": ""
             }
            },
            "type": "scatterpolar"
           }
          ],
          "scatterpolargl": [
           {
            "marker": {
             "colorbar": {
              "outlinewidth": 0,
              "ticks": ""
             }
            },
            "type": "scatterpolargl"
           }
          ],
          "scatterternary": [
           {
            "marker": {
             "colorbar": {
              "outlinewidth": 0,
              "ticks": ""
             }
            },
            "type": "scatterternary"
           }
          ],
          "surface": [
           {
            "colorbar": {
             "outlinewidth": 0,
             "ticks": ""
            },
            "colorscale": [
             [
              0,
              "#0d0887"
             ],
             [
              0.1111111111111111,
              "#46039f"
             ],
             [
              0.2222222222222222,
              "#7201a8"
             ],
             [
              0.3333333333333333,
              "#9c179e"
             ],
             [
              0.4444444444444444,
              "#bd3786"
             ],
             [
              0.5555555555555556,
              "#d8576b"
             ],
             [
              0.6666666666666666,
              "#ed7953"
             ],
             [
              0.7777777777777778,
              "#fb9f3a"
             ],
             [
              0.8888888888888888,
              "#fdca26"
             ],
             [
              1,
              "#f0f921"
             ]
            ],
            "type": "surface"
           }
          ],
          "table": [
           {
            "cells": {
             "fill": {
              "color": "#EBF0F8"
             },
             "line": {
              "color": "white"
             }
            },
            "header": {
             "fill": {
              "color": "#C8D4E3"
             },
             "line": {
              "color": "white"
             }
            },
            "type": "table"
           }
          ]
         },
         "layout": {
          "annotationdefaults": {
           "arrowcolor": "#2a3f5f",
           "arrowhead": 0,
           "arrowwidth": 1
          },
          "autotypenumbers": "strict",
          "coloraxis": {
           "colorbar": {
            "outlinewidth": 0,
            "ticks": ""
           }
          },
          "colorscale": {
           "diverging": [
            [
             0,
             "#8e0152"
            ],
            [
             0.1,
             "#c51b7d"
            ],
            [
             0.2,
             "#de77ae"
            ],
            [
             0.3,
             "#f1b6da"
            ],
            [
             0.4,
             "#fde0ef"
            ],
            [
             0.5,
             "#f7f7f7"
            ],
            [
             0.6,
             "#e6f5d0"
            ],
            [
             0.7,
             "#b8e186"
            ],
            [
             0.8,
             "#7fbc41"
            ],
            [
             0.9,
             "#4d9221"
            ],
            [
             1,
             "#276419"
            ]
           ],
           "sequential": [
            [
             0,
             "#0d0887"
            ],
            [
             0.1111111111111111,
             "#46039f"
            ],
            [
             0.2222222222222222,
             "#7201a8"
            ],
            [
             0.3333333333333333,
             "#9c179e"
            ],
            [
             0.4444444444444444,
             "#bd3786"
            ],
            [
             0.5555555555555556,
             "#d8576b"
            ],
            [
             0.6666666666666666,
             "#ed7953"
            ],
            [
             0.7777777777777778,
             "#fb9f3a"
            ],
            [
             0.8888888888888888,
             "#fdca26"
            ],
            [
             1,
             "#f0f921"
            ]
           ],
           "sequentialminus": [
            [
             0,
             "#0d0887"
            ],
            [
             0.1111111111111111,
             "#46039f"
            ],
            [
             0.2222222222222222,
             "#7201a8"
            ],
            [
             0.3333333333333333,
             "#9c179e"
            ],
            [
             0.4444444444444444,
             "#bd3786"
            ],
            [
             0.5555555555555556,
             "#d8576b"
            ],
            [
             0.6666666666666666,
             "#ed7953"
            ],
            [
             0.7777777777777778,
             "#fb9f3a"
            ],
            [
             0.8888888888888888,
             "#fdca26"
            ],
            [
             1,
             "#f0f921"
            ]
           ]
          },
          "colorway": [
           "#636efa",
           "#EF553B",
           "#00cc96",
           "#ab63fa",
           "#FFA15A",
           "#19d3f3",
           "#FF6692",
           "#B6E880",
           "#FF97FF",
           "#FECB52"
          ],
          "font": {
           "color": "#2a3f5f"
          },
          "geo": {
           "bgcolor": "white",
           "lakecolor": "white",
           "landcolor": "#E5ECF6",
           "showlakes": true,
           "showland": true,
           "subunitcolor": "white"
          },
          "hoverlabel": {
           "align": "left"
          },
          "hovermode": "closest",
          "mapbox": {
           "style": "light"
          },
          "paper_bgcolor": "white",
          "plot_bgcolor": "#E5ECF6",
          "polar": {
           "angularaxis": {
            "gridcolor": "white",
            "linecolor": "white",
            "ticks": ""
           },
           "bgcolor": "#E5ECF6",
           "radialaxis": {
            "gridcolor": "white",
            "linecolor": "white",
            "ticks": ""
           }
          },
          "scene": {
           "xaxis": {
            "backgroundcolor": "#E5ECF6",
            "gridcolor": "white",
            "gridwidth": 2,
            "linecolor": "white",
            "showbackground": true,
            "ticks": "",
            "zerolinecolor": "white"
           },
           "yaxis": {
            "backgroundcolor": "#E5ECF6",
            "gridcolor": "white",
            "gridwidth": 2,
            "linecolor": "white",
            "showbackground": true,
            "ticks": "",
            "zerolinecolor": "white"
           },
           "zaxis": {
            "backgroundcolor": "#E5ECF6",
            "gridcolor": "white",
            "gridwidth": 2,
            "linecolor": "white",
            "showbackground": true,
            "ticks": "",
            "zerolinecolor": "white"
           }
          },
          "shapedefaults": {
           "line": {
            "color": "#2a3f5f"
           }
          },
          "ternary": {
           "aaxis": {
            "gridcolor": "white",
            "linecolor": "white",
            "ticks": ""
           },
           "baxis": {
            "gridcolor": "white",
            "linecolor": "white",
            "ticks": ""
           },
           "bgcolor": "#E5ECF6",
           "caxis": {
            "gridcolor": "white",
            "linecolor": "white",
            "ticks": ""
           }
          },
          "title": {
           "x": 0.05
          },
          "xaxis": {
           "automargin": true,
           "gridcolor": "white",
           "linecolor": "white",
           "ticks": "",
           "title": {
            "standoff": 15
           },
           "zerolinecolor": "white",
           "zerolinewidth": 2
          },
          "yaxis": {
           "automargin": true,
           "gridcolor": "white",
           "linecolor": "white",
           "ticks": "",
           "title": {
            "standoff": 15
           },
           "zerolinecolor": "white",
           "zerolinewidth": 2
          }
         }
        },
        "title": {
         "text": "Student Cohort Analysis Dashboard"
        },
        "xaxis": {
         "anchor": "y",
         "domain": [
          0,
          0.45
         ],
         "title": {
          "text": "GPA"
         }
        },
        "xaxis2": {
         "anchor": "y2",
         "domain": [
          0,
          0.45
         ],
         "title": {
          "text": "Number of Courses"
         }
        },
        "xaxis3": {
         "anchor": "y3",
         "domain": [
          0.55,
          1
         ],
         "title": {
          "text": "Term Number"
         }
        },
        "xaxis4": {
         "anchor": "y4",
         "domain": [
          0,
          0.45
         ],
         "title": {
          "text": "Academic Domain"
         }
        },
        "xaxis5": {
         "anchor": "y5",
         "domain": [
          0.55,
          1
         ],
         "title": {
          "text": "Courses Completed"
         }
        },
        "yaxis": {
         "anchor": "x",
         "domain": [
          0.7777777777777778,
          1
         ],
         "title": {
          "text": "Number of Students"
         }
        },
        "yaxis2": {
         "anchor": "x2",
         "domain": [
          0.3888888888888889,
          0.6111111111111112
         ],
         "title": {
          "text": "Number of Students"
         }
        },
        "yaxis3": {
         "anchor": "x3",
         "domain": [
          0.3888888888888889,
          0.6111111111111112
         ],
         "title": {
          "text": "Number of Students"
         }
        },
        "yaxis4": {
         "anchor": "x4",
         "domain": [
          0,
          0.22222222222222224
         ],
         "title": {
          "text": "Average Interest Level"
         }
        },
        "yaxis5": {
         "anchor": "x5",
         "domain": [
          0,
          0.22222222222222224
         ],
         "title": {
          "text": "GPA"
         }
        }
       }
      }
     },
     "metadata": {},
     "output_type": "display_data"
    },
    {
     "name": "stdout",
     "output_type": "stream",
     "text": [
      "📊 Cohort visualization complete!\n",
      "   - Generated visualizations for 100 students\n",
      "   - GPA range: 2.53 - 4.00\n",
      "   - Course completion range: 2 - 33\n"
     ]
    }
   ],
   "source": [
    "# Create comprehensive student cohort visualizations\n",
    "fig = make_subplots(\n",
    "    rows=3, cols=2,\n",
    "    subplot_titles=['GPA Distribution', 'Academic Standing Distribution', \n",
    "                   'Courses Completed Distribution', 'Current Term Distribution',\n",
    "                   'Interest Distribution by Domain', 'GPA vs Courses Completed'],\n",
    "    specs=[[{\"type\": \"histogram\"}, {\"type\": \"pie\"}],\n",
    "           [{\"type\": \"histogram\"}, {\"type\": \"histogram\"}],\n",
    "           [{\"type\": \"bar\"}, {\"type\": \"scatter\"}]]\n",
    ")\n",
    "\n",
    "# 1. GPA Distribution\n",
    "gpas = [s.gpa for s in students]\n",
    "fig.add_trace(go.Histogram(\n",
    "    x=gpas, nbinsx=20, name=\"GPA Distribution\", \n",
    "    marker_color='lightblue', showlegend=False\n",
    "), row=1, col=1)\n",
    "\n",
    "# 2. Academic Standing Distribution\n",
    "standing_counts = {}\n",
    "for s in students:\n",
    "    standing_counts[s.academic_standing] = standing_counts.get(s.academic_standing, 0) + 1\n",
    "\n",
    "fig.add_trace(go.Pie(\n",
    "    labels=list(standing_counts.keys()), \n",
    "    values=list(standing_counts.values()),\n",
    "    name=\"Academic Standing\", showlegend=False\n",
    "), row=1, col=2)\n",
    "\n",
    "# 3. Courses Completed Distribution\n",
    "courses_completed = [len(s.completed_courses) for s in students]\n",
    "fig.add_trace(go.Histogram(\n",
    "    x=courses_completed, nbinsx=15, name=\"Courses Completed\",\n",
    "    marker_color='lightgreen', showlegend=False\n",
    "), row=2, col=1)\n",
    "\n",
    "# 4. Current Term Distribution\n",
    "current_terms = [s.current_term for s in students]\n",
    "fig.add_trace(go.Histogram(\n",
    "    x=current_terms, nbinsx=10, name=\"Current Term\",\n",
    "    marker_color='lightcoral', showlegend=False\n",
    "), row=2, col=2)\n",
    "\n",
    "# 5. Interest Distribution by Domain\n",
    "domains = ['AI', 'Security', 'Data Science', 'Software Engineering', 'Systems', 'Theory']\n",
    "avg_interests = []\n",
    "for domain in domains:\n",
    "    avg_interest = np.mean([s.interests.get(domain, 0) for s in students])\n",
    "    avg_interests.append(avg_interest)\n",
    "\n",
    "fig.add_trace(go.Bar(\n",
    "    x=domains, y=avg_interests, name=\"Average Interest\",\n",
    "    marker_color='gold', showlegend=False\n",
    "), row=3, col=1)\n",
    "\n",
    "# 6. GPA vs Courses Completed Scatter\n",
    "fig.add_trace(go.Scatter(\n",
    "    x=courses_completed, y=gpas, mode='markers',\n",
    "    marker=dict(color='purple', size=8, opacity=0.6),\n",
    "    name=\"GPA vs Courses\", showlegend=False\n",
    "), row=3, col=2)\n",
    "\n",
    "# Update layout\n",
    "fig.update_layout(\n",
    "    title_text=\"Student Cohort Analysis Dashboard\",\n",
    "    height=1000,\n",
    "    showlegend=False\n",
    ")\n",
    "\n",
    "# Update x-axis labels\n",
    "fig.update_xaxes(title_text=\"GPA\", row=1, col=1)\n",
    "fig.update_xaxes(title_text=\"Number of Courses\", row=2, col=1)\n",
    "fig.update_xaxes(title_text=\"Term Number\", row=2, col=2)\n",
    "fig.update_xaxes(title_text=\"Academic Domain\", row=3, col=1)\n",
    "fig.update_xaxes(title_text=\"Courses Completed\", row=3, col=2)\n",
    "\n",
    "# Update y-axis labels\n",
    "fig.update_yaxes(title_text=\"Number of Students\", row=1, col=1)\n",
    "fig.update_yaxes(title_text=\"Number of Students\", row=2, col=1)\n",
    "fig.update_yaxes(title_text=\"Number of Students\", row=2, col=2)\n",
    "fig.update_yaxes(title_text=\"Average Interest Level\", row=3, col=1)\n",
    "fig.update_yaxes(title_text=\"GPA\", row=3, col=2)\n",
    "\n",
    "fig.show()\n",
    "\n",
    "print(\"📊 Cohort visualization complete!\")\n",
    "print(f\"   - Generated visualizations for {len(students)} students\")\n",
    "print(f\"   - GPA range: {min(gpas):.2f} - {max(gpas):.2f}\")\n",
    "print(f\"   - Course completion range: {min(courses_completed)} - {max(courses_completed)}\")"
   ]
  },
  {
   "cell_type": "markdown",
   "id": "dc6c941f",
   "metadata": {},
   "source": [
    "## 2. Statistical Distributions Used in Student Generation\n",
    "\n",
    "This section documents the statistical models and distributions used to create realistic student profiles.\n",
    "\n",
    "### 2.1 Grade Distribution Model\n",
    "The grade simulation uses **domain-specific normal distributions** based on course difficulty and student interest:\n",
    "\n",
    "- **Base Grade Means** (by difficulty):\n",
    "  - Beginner: μ = 3.2, σ = 0.6 \n",
    "  - Intermediate: μ = 2.9, σ = 0.8\n",
    "  - Advanced: μ = 2.7, σ = 0.9\n",
    "\n",
    "- **Interest Adjustment**: ±0.8 points based on student's domain interest level\n",
    "- **Student Ability**: Beta(2,2) distribution for individual variation\n",
    "\n",
    "### 2.2 Student Interest Generation\n",
    "- **Primary Interests**: Each student has 1-3 domains with high interest (0.7-1.0)\n",
    "- **Secondary Interests**: Remaining domains have moderate interest (0.1-0.5)\n",
    "- **Distribution**: Uniform sampling within specified ranges"
   ]
  },
  {
   "cell_type": "code",
   "execution_count": 4,
   "id": "d72659e3",
   "metadata": {},
   "outputs": [
    {
     "name": "stdout",
     "output_type": "stream",
     "text": [
      "📈 STATISTICAL ANALYSIS OF GENERATED STUDENT POPULATION\n",
      "======================================================================\n",
      "\n",
      "🎯 GPA DISTRIBUTION\n",
      "  Mean: 3.118\n",
      "  Median: 3.115\n",
      "  Standard Deviation: 0.254\n",
      "  Skewness: 1.009\n",
      "  Range: [2.53, 4.00]\n",
      "\n",
      "🏆 INTEREST DISTRIBUTION ANALYSIS\n",
      "  AI:\n",
      "    Mean Interest: 0.483\n",
      "    Std Dev: 0.281\n",
      "    High Interest (>0.7): 32 students (32.0%)\n",
      "  Security:\n",
      "    Mean Interest: 0.505\n",
      "    Std Dev: 0.276\n",
      "    High Interest (>0.7): 38 students (38.0%)\n",
      "  Data Science:\n",
      "    Mean Interest: 0.504\n",
      "    Std Dev: 0.295\n",
      "    High Interest (>0.7): 37 students (37.0%)\n",
      "  Software Engineering:\n",
      "    Mean Interest: 0.476\n",
      "    Std Dev: 0.268\n",
      "    High Interest (>0.7): 31 students (31.0%)\n",
      "  Systems:\n",
      "    Mean Interest: 0.505\n",
      "    Std Dev: 0.270\n",
      "    High Interest (>0.7): 35 students (35.0%)\n",
      "  Theory:\n",
      "    Mean Interest: 0.450\n",
      "    Std Dev: 0.291\n",
      "    High Interest (>0.7): 31 students (31.0%)\n",
      "\n",
      "📚 ACADEMIC PROGRESS ANALYSIS\n",
      "  Courses Completed:\n",
      "    Mean: 20.1\n",
      "    Std Dev: 8.8\n",
      "    Range: [2, 33]\n",
      "  Current Term:\n",
      "    Mean: 6.2\n",
      "    Mode: 8\n",
      "    Range: [2, 8]\n",
      "\n",
      "🎓 ACADEMIC STANDING DISTRIBUTION\n",
      "  Warning: 71 students (71.0%)\n",
      "  Good: 29 students (29.0%)\n",
      "\n",
      "🔗 CORRELATION ANALYSIS\n",
      "Correlation Matrix (key relationships):\n",
      "  GPA vs Courses Completed: -0.220\n",
      "  GPA vs Current Term: -0.269\n",
      "  AI Interest vs Data Science Interest: -0.100\n"
     ]
    },
    {
     "data": {
      "image/png": "[encoded data removed]",
      "text/plain": [
       "<Figure size 1000x800 with 2 Axes>"
      ]
     },
     "metadata": {},
     "output_type": "display_data"
    },
    {
     "name": "stdout",
     "output_type": "stream",
     "text": [
      "\n",
      "✓ Statistical analysis complete!\n"
     ]
    }
   ],
   "source": [
    "# Analyze the statistical distributions in our generated cohort\n",
    "print(\"📈 STATISTICAL ANALYSIS OF GENERATED STUDENT POPULATION\")\n",
    "print(\"=\" * 70)\n",
    "\n",
    "# 1. GPA Distribution Analysis\n",
    "gpas = np.array([s.gpa for s in students])\n",
    "print(f\"\\n🎯 GPA DISTRIBUTION\")\n",
    "print(f\"  Mean: {np.mean(gpas):.3f}\")\n",
    "print(f\"  Median: {np.median(gpas):.3f}\")\n",
    "print(f\"  Standard Deviation: {np.std(gpas):.3f}\")\n",
    "print(f\"  Skewness: {pd.Series(gpas).skew():.3f}\")\n",
    "print(f\"  Range: [{np.min(gpas):.2f}, {np.max(gpas):.2f}]\")\n",
    "\n",
    "# 2. Interest Distribution Analysis\n",
    "print(f\"\\n🏆 INTEREST DISTRIBUTION ANALYSIS\")\n",
    "for domain in domains:\n",
    "    interests = [s.interests.get(domain, 0) for s in students]\n",
    "    high_interest = sum(1 for x in interests if x > 0.7)\n",
    "    print(f\"  {domain}:\")\n",
    "    print(f\"    Mean Interest: {np.mean(interests):.3f}\")\n",
    "    print(f\"    Std Dev: {np.std(interests):.3f}\")\n",
    "    print(f\"    High Interest (>0.7): {high_interest} students ({high_interest/len(students)*100:.1f}%)\")\n",
    "\n",
    "# 3. Academic Progress Distribution\n",
    "courses_completed = [len(s.completed_courses) for s in students]\n",
    "current_terms = [s.current_term for s in students]\n",
    "\n",
    "print(f\"\\n📚 ACADEMIC PROGRESS ANALYSIS\")\n",
    "print(f\"  Courses Completed:\")\n",
    "print(f\"    Mean: {np.mean(courses_completed):.1f}\")\n",
    "print(f\"    Std Dev: {np.std(courses_completed):.1f}\")\n",
    "print(f\"    Range: [{min(courses_completed)}, {max(courses_completed)}]\")\n",
    "\n",
    "print(f\"  Current Term:\")\n",
    "print(f\"    Mean: {np.mean(current_terms):.1f}\")\n",
    "print(f\"    Mode: {pd.Series(current_terms).mode().iloc[0]}\")\n",
    "print(f\"    Range: [{min(current_terms)}, {max(current_terms)}]\")\n",
    "\n",
    "# 4. Academic Standing Distribution\n",
    "standing_dist = {}\n",
    "for s in students:\n",
    "    standing_dist[s.academic_standing] = standing_dist.get(s.academic_standing, 0) + 1\n",
    "\n",
    "print(f\"\\n🎓 ACADEMIC STANDING DISTRIBUTION\")\n",
    "for standing, count in standing_dist.items():\n",
    "    percentage = (count / len(students)) * 100\n",
    "    print(f\"  {standing}: {count} students ({percentage:.1f}%)\")\n",
    "\n",
    "# 5. Correlation Analysis\n",
    "print(f\"\\n🔗 CORRELATION ANALYSIS\")\n",
    "# Create correlation matrix\n",
    "correlation_data = []\n",
    "for student in students:\n",
    "    correlation_data.append({\n",
    "        'gpa': student.gpa,\n",
    "        'courses_completed': len(student.completed_courses),\n",
    "        'current_term': student.current_term,\n",
    "        'ai_interest': student.interests.get('AI', 0),\n",
    "        'ds_interest': student.interests.get('Data Science', 0),\n",
    "        'se_interest': student.interests.get('Software Engineering', 0)\n",
    "    })\n",
    "\n",
    "corr_df = pd.DataFrame(correlation_data)\n",
    "correlation_matrix = corr_df.corr()\n",
    "\n",
    "print(\"Correlation Matrix (key relationships):\")\n",
    "print(f\"  GPA vs Courses Completed: {correlation_matrix.loc['gpa', 'courses_completed']:.3f}\")\n",
    "print(f\"  GPA vs Current Term: {correlation_matrix.loc['gpa', 'current_term']:.3f}\")\n",
    "print(f\"  AI Interest vs Data Science Interest: {correlation_matrix.loc['ai_interest', 'ds_interest']:.3f}\")\n",
    "\n",
    "# Display correlation heatmap\n",
    "plt.figure(figsize=(10, 8))\n",
    "sns.heatmap(correlation_matrix, annot=True, cmap='coolwarm', center=0, \n",
    "            square=True, fmt='.3f')\n",
    "plt.title('Student Characteristics Correlation Matrix')\n",
    "plt.tight_layout()\n",
    "plt.show()\n",
    "\n",
    "print(\"\\n✓ Statistical analysis complete!\")"
   ]
  },
  {
   "cell_type": "markdown",
   "id": "072ca741",
   "metadata": {},
   "source": [
    "## 3. Individual Student Profile Analysis\n",
    "\n",
    "Let's examine specific student profiles to understand the diversity and realism of our simulation."
   ]
  },
  {
   "cell_type": "code",
   "execution_count": 5,
   "id": "3b8aacb4",
   "metadata": {},
   "outputs": [
    {
     "name": "stdout",
     "output_type": "stream",
     "text": [
      "🔍 INDIVIDUAL STUDENT ANALYSIS\n",
      "Selecting diverse students for detailed analysis...\n",
      "\n",
      "\n",
      "============================================================\n",
      "CATEGORY: High Performer\n",
      "============================================================\n",
      "👤 STUDENT PROFILE: STU_010\n",
      "==================================================\n",
      "Name: Student_010\n",
      "GPA: 4.00\n",
      "Current Term: 2\n",
      "Academic Standing: Good\n",
      "Target Graduation: Term 12\n",
      "\n",
      "📚 ACADEMIC PROGRESS\n",
      "  Courses Passed: 1\n",
      "  Courses Failed: 1\n",
      "  Credits Completed: 3\n",
      "  Progress to Graduation: 2.5%\n",
      "\n",
      "🎯 INTEREST PROFILE\n",
      "  Systems: 0.87\n",
      "  AI: 0.87\n",
      "  Data Science: 0.86\n",
      "  Software Engineering: 0.49\n",
      "  Theory: 0.20\n",
      "  Security: 0.12\n",
      "\n",
      "📊 PERFORMANCE BY DOMAIN\n",
      "  Software Engineering: 4.00 avg (1 courses)\n",
      "\n",
      "📋 SAMPLE COMPLETED COURSES\n",
      "  ✓ CS101: Intro to Programming (Grade: 4.0)\n",
      "  ✗ MATH101: Discrete Mathematics (Grade: 1.5)\n",
      "\n",
      "============================================================\n",
      "CATEGORY: AI Specialist\n",
      "============================================================\n",
      "👤 STUDENT PROFILE: STU_005\n",
      "==================================================\n",
      "Name: Student_005\n",
      "GPA: 3.28\n",
      "Current Term: 4\n",
      "Academic Standing: Good\n",
      "Target Graduation: Term 11\n",
      "\n",
      "📚 ACADEMIC PROGRESS\n",
      "  Courses Passed: 13\n",
      "  Courses Failed: 1\n",
      "  Credits Completed: 39\n",
      "  Progress to Graduation: 32.5%\n",
      "\n",
      "🎯 INTEREST PROFILE\n",
      "  AI: 0.99\n",
      "  Security: 0.84\n",
      "  Theory: 0.39\n",
      "  Data Science: 0.35\n",
      "  Systems: 0.31\n",
      "  Software Engineering: 0.19\n",
      "\n",
      "📊 PERFORMANCE BY DOMAIN\n",
      "  Theory: 3.38 avg (4 courses)\n",
      "  Software Engineering: 2.60 avg (2 courses)\n",
      "  Data Science: 3.11 avg (3 courses)\n",
      "  Systems: 3.54 avg (3 courses)\n",
      "  Security: 4.00 avg (1 courses)\n",
      "\n",
      "📋 SAMPLE COMPLETED COURSES\n",
      "  ✓ MATH101: Discrete Mathematics (Grade: 4.0)\n",
      "  ✓ CS101: Intro to Programming (Grade: 2.1)\n",
      "  ✓ MATH202: Statistics (Grade: 3.0)\n",
      "  ✓ MATH201: Linear Algebra (Grade: 3.1)\n",
      "  ✓ CS210: Computer Architecture (Grade: 4.0)\n",
      "  ✓ CS301: Theory of Computation (Grade: 2.7)\n",
      "  ✓ CS102: Data Structures (Grade: 3.1)\n",
      "  ✓ CS220: Operating Systems (Grade: 2.8)\n",
      "  ... and 6 more courses\n",
      "\n",
      "============================================================\n",
      "CATEGORY: Early Career\n",
      "============================================================\n",
      "👤 STUDENT PROFILE: STU_010\n",
      "==================================================\n",
      "Name: Student_010\n",
      "GPA: 4.00\n",
      "Current Term: 2\n",
      "Academic Standing: Good\n",
      "Target Graduation: Term 12\n",
      "\n",
      "📚 ACADEMIC PROGRESS\n",
      "  Courses Passed: 1\n",
      "  Courses Failed: 1\n",
      "  Credits Completed: 3\n",
      "  Progress to Graduation: 2.5%\n",
      "\n",
      "🎯 INTEREST PROFILE\n",
      "  Systems: 0.87\n",
      "  AI: 0.87\n",
      "  Data Science: 0.86\n",
      "  Software Engineering: 0.49\n",
      "  Theory: 0.20\n",
      "  Security: 0.12\n",
      "\n",
      "📊 PERFORMANCE BY DOMAIN\n",
      "  Software Engineering: 4.00 avg (1 courses)\n",
      "\n",
      "📋 SAMPLE COMPLETED COURSES\n",
      "  ✓ CS101: Intro to Programming (Grade: 4.0)\n",
      "  ✗ MATH101: Discrete Mathematics (Grade: 1.5)\n",
      "\n",
      "============================================================\n",
      "CATEGORY: Advanced Student\n",
      "============================================================\n",
      "👤 STUDENT PROFILE: STU_001\n",
      "==================================================\n",
      "Name: Student_001\n",
      "GPA: 2.94\n",
      "Current Term: 7\n",
      "Academic Standing: Warning\n",
      "Target Graduation: Term 13\n",
      "\n",
      "📚 ACADEMIC PROGRESS\n",
      "  Courses Passed: 16\n",
      "  Courses Failed: 5\n",
      "  Credits Completed: 48\n",
      "  Progress to Graduation: 40.0%\n",
      "\n",
      "🎯 INTEREST PROFILE\n",
      "  Software Engineering: 0.71\n",
      "  AI: 0.34\n",
      "  Security: 0.33\n",
      "  Theory: 0.27\n",
      "  Systems: 0.13\n",
      "  Data Science: 0.10\n",
      "\n",
      "📊 PERFORMANCE BY DOMAIN\n",
      "  Software Engineering: 3.02 avg (7 courses)\n",
      "  Theory: 3.12 avg (3 courses)\n",
      "  Systems: 2.34 avg (1 courses)\n",
      "  Data Science: 2.85 avg (5 courses)\n",
      "\n",
      "📋 SAMPLE COMPLETED COURSES\n",
      "  ✓ CS101: Intro to Programming (Grade: 3.3)\n",
      "  ✓ MATH101: Discrete Mathematics (Grade: 3.0)\n",
      "  ✓ CS102: Data Structures (Grade: 4.0)\n",
      "  ✓ MATH201: Linear Algebra (Grade: 3.4)\n",
      "  ✓ CS210: Computer Architecture (Grade: 2.3)\n",
      "  ✓ MATH202: Statistics (Grade: 3.1)\n",
      "  ✓ CS404: Human-Computer Interaction (Grade: 2.8)\n",
      "  ✓ SE302: Web Development (Grade: 2.8)\n",
      "  ... and 13 more courses\n",
      "\n",
      "✓ Analyzed 4 diverse student profiles\n"
     ]
    }
   ],
   "source": [
    "# Analyze individual student profiles to showcase diversity\n",
    "def analyze_student_profile(student, curriculum):\n",
    "    \"\"\"Detailed analysis of a single student profile\"\"\"\n",
    "    print(f\"👤 STUDENT PROFILE: {student.student_id}\")\n",
    "    print(\"=\" * 50)\n",
    "    \n",
    "    # Basic info\n",
    "    print(f\"Name: {student.name}\")\n",
    "    print(f\"GPA: {student.gpa:.2f}\")\n",
    "    print(f\"Current Term: {student.current_term}\")\n",
    "    print(f\"Academic Standing: {student.academic_standing}\")\n",
    "    print(f\"Target Graduation: Term {student.target_graduation_term}\")\n",
    "    \n",
    "    # Academic progress\n",
    "    passed_courses = [c for c, g in student.completed_courses.items() if g >= 2.0]\n",
    "    failed_courses = [c for c, g in student.completed_courses.items() if g < 2.0]\n",
    "    \n",
    "    credits_completed = sum(\n",
    "        curriculum.get_course_info(course).get('credits', 3)\n",
    "        for course in passed_courses\n",
    "    )\n",
    "    \n",
    "    print(f\"\\n📚 ACADEMIC PROGRESS\")\n",
    "    print(f\"  Courses Passed: {len(passed_courses)}\")\n",
    "    print(f\"  Courses Failed: {len(failed_courses)}\")\n",
    "    print(f\"  Credits Completed: {credits_completed}\")\n",
    "    print(f\"  Progress to Graduation: {credits_completed/120*100:.1f}%\")\n",
    "    \n",
    "    # Interest analysis\n",
    "    sorted_interests = sorted(student.interests.items(), key=lambda x: x[1], reverse=True)\n",
    "    print(f\"\\n🎯 INTEREST PROFILE\")\n",
    "    for domain, interest in sorted_interests:\n",
    "        print(f\"  {domain}: {interest:.2f}\")\n",
    "    \n",
    "    # Course history by domain\n",
    "    domain_performance = {}\n",
    "    for course, grade in student.completed_courses.items():\n",
    "        if grade >= 2.0:  # Only passed courses\n",
    "            course_info = curriculum.get_course_info(course)\n",
    "            domain = course_info.get('domain', 'Other')\n",
    "            if domain not in domain_performance:\n",
    "                domain_performance[domain] = []\n",
    "            domain_performance[domain].append(grade)\n",
    "    \n",
    "    print(f\"\\n📊 PERFORMANCE BY DOMAIN\")\n",
    "    for domain, grades in domain_performance.items():\n",
    "        if grades:\n",
    "            avg_grade = np.mean(grades)\n",
    "            print(f\"  {domain}: {avg_grade:.2f} avg ({len(grades)} courses)\")\n",
    "    \n",
    "    # Show some completed courses\n",
    "    print(f\"\\n📋 SAMPLE COMPLETED COURSES\")\n",
    "    sample_courses = list(student.completed_courses.items())[:8]\n",
    "    for course, grade in sample_courses:\n",
    "        course_info = curriculum.get_course_info(course)\n",
    "        status = \"✓\" if grade >= 2.0 else \"✗\"\n",
    "        print(f\"  {status} {course}: {course_info.get('name', 'Unknown')} (Grade: {grade:.1f})\")\n",
    "    \n",
    "    if len(student.completed_courses) > 8:\n",
    "        print(f\"  ... and {len(student.completed_courses) - 8} more courses\")\n",
    "    \n",
    "    return student\n",
    "\n",
    "# Analyze diverse student profiles\n",
    "print(\"🔍 INDIVIDUAL STUDENT ANALYSIS\")\n",
    "print(\"Selecting diverse students for detailed analysis...\\n\")\n",
    "\n",
    "# Select students with different characteristics\n",
    "diverse_students = []\n",
    "\n",
    "# High performer\n",
    "high_gpa_students = [s for s in students if s.gpa >= 3.5]\n",
    "if high_gpa_students:\n",
    "    diverse_students.append((\"High Performer\", high_gpa_students[0]))\n",
    "\n",
    "# Struggling student\n",
    "low_gpa_students = [s for s in students if s.gpa <= 2.5]\n",
    "if low_gpa_students:\n",
    "    diverse_students.append((\"Struggling Student\", low_gpa_students[0]))\n",
    "\n",
    "# AI-focused student\n",
    "ai_students = [s for s in students if s.interests.get('AI', 0) > 0.8]\n",
    "if ai_students:\n",
    "    diverse_students.append((\"AI Specialist\", ai_students[0]))\n",
    "\n",
    "# Early-term student\n",
    "early_students = [s for s in students if s.current_term <= 3]\n",
    "if early_students:\n",
    "    diverse_students.append((\"Early Career\", early_students[0]))\n",
    "\n",
    "# Advanced student\n",
    "advanced_students = [s for s in students if s.current_term >= 7]\n",
    "if advanced_students:\n",
    "    diverse_students.append((\"Advanced Student\", advanced_students[0]))\n",
    "\n",
    "# Analyze each selected student\n",
    "for category, student in diverse_students:\n",
    "    print(f\"\\n{'='*60}\")\n",
    "    print(f\"CATEGORY: {category}\")\n",
    "    print(f\"{'='*60}\")\n",
    "    analyze_student_profile(student, curriculum)\n",
    "\n",
    "print(f\"\\n✓ Analyzed {len(diverse_students)} diverse student profiles\")"
   ]
  }
 ],
 "metadata": {
  "kernelspec": {
   "display_name": "base",
   "language": "python",
   "name": "python3"
  },
  "language_info": {
   "codemirror_mode": {
    "name": "ipython",
    "version": 3
   },
   "file_extension": ".py",
   "mimetype": "text/x-python",
   "name": "python",
   "nbconvert_exporter": "python",
   "pygments_lexer": "ipython3",
   "version": "3.12.7"
  }
 },
 "nbformat": 4,
 "nbformat_minor": 5
}
