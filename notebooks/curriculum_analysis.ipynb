{
 "cells": [
  {
   "cell_type": "markdown",
   "id": "297c68be",
   "metadata": {},
   "source": [
    "# AI Curriculum Planner - Curriculum Analysis\n",
    "\n",
    "This notebook provides comprehensive analysis of the AI academic advising system's curriculum graph structure, course prerequisites, domain statistics, and interactive exploration tools.\n",
    "\n",
    "## Overview\n",
    "- **Curriculum Graph**: Visual representation of courses and prerequisites\n",
    "- **Course Analysis**: Detailed examination of individual courses\n",
    "- **Domain Statistics**: Distribution and relationships across academic domains\n",
    "- **Prerequisites Analysis**: Dependency analysis and critical path identification\n",
    "- **Interactive Exploration**: Tools for exploring the course network"
   ]
  },
  {
   "cell_type": "markdown",
   "id": "7f42e8a2",
   "metadata": {},
   "source": [
    "## Course Data References and Sources\n",
    "\n",
    "### Curriculum Design References\n",
    "\n",
    "The computer science curriculum used in this simulation is based on:\n",
    "\n",
    "1. **ACM Computing Curricula 2020** - Association for Computing Machinery\n",
    "   - Reference: *Computing Curricula 2020: Paradigms for Global Computing Education*\n",
    "   - Used for domain classification and course progression standards\n",
    "\n",
    "2. **IEEE Computer Society Curriculum Guidelines** - Institute of Electrical and Electronics Engineers\n",
    "   - Reference: *Computer Science Curricula 2013: Curriculum Guidelines for Undergraduate Degree Programs*\n",
    "   - Applied for prerequisite structure and credit hour standards\n",
    "\n",
    "3. **Real University Computer Science Programs** analyzed:\n",
    "   - Stanford University CS Curriculum (2023)\n",
    "   - MIT EECS Course Sequences\n",
    "   - UC Berkeley CS Program Structure\n",
    "   - Carnegie Mellon Computer Science Department\n",
    "\n",
    "### 5.2 Course Prerequisites and Structure\n",
    "\n",
    "The prerequisite relationships were designed following standard academic progressions:\n",
    "\n",
    "- **Foundation Courses**: CS101 (Intro Programming), MATH101 (Calculus), CS102 (Data Structures)\n",
    "- **Intermediate Prerequisites**: Most 200-level courses require 100-level foundations\n",
    "- **Advanced Prerequisites**: 300+ level courses require specific intermediate courses\n",
    "- **Cross-domain Prerequisites**: AI/ML courses require statistics; Systems courses require low-level programming\n",
    "\n",
    "### 5.3 Realistic Course Naming and Content\n",
    "\n",
    "Course codes and names follow standard computer science nomenclature:\n",
    "- CS: Computer Science core courses\n",
    "- MATH: Mathematical foundations  \n",
    "- DS: Data Science specialization\n",
    "- SEC: Security/Cybersecurity\n",
    "- SE: Software Engineering"
   ]
  },
  {
   "cell_type": "code",
   "execution_count": 43,
   "id": "8e8567fe",
   "metadata": {},
   "outputs": [
    {
     "name": "stdout",
     "output_type": "stream",
     "text": [
      "✓ All libraries imported successfully\n",
      "✓ Project modules loaded\n",
      "✓ Plotting configuration set\n"
     ]
    }
   ],
   "source": [
    "# Import Required Libraries\n",
    "import sys\n",
    "import os\n",
    "sys.path.append('../')  # Add parent directory to path\n",
    "\n",
    "# Core libraries\n",
    "import pandas as pd\n",
    "import numpy as np\n",
    "import matplotlib.pyplot as plt\n",
    "import seaborn as sns\n",
    "import networkx as nx\n",
    "import plotly.graph_objects as go\n",
    "import plotly.express as px\n",
    "from plotly.subplots import make_subplots\n",
    "import warnings\n",
    "warnings.filterwarnings('ignore')\n",
    "\n",
    "# Project modules\n",
    "from src.curriculum_graph import CurriculumGraph, create_sample_curriculum\n",
    "from src.student_simulation import StudentSimulator, create_student_cohort\n",
    "from src.constraints import AcademicConstraints, create_constraint_validator\n",
    "from src.visualization import CurriculumVisualizer, create_visualizer\n",
    "\n",
    "# Set up plotting\n",
    "plt.style.use('seaborn-v0_8')\n",
    "sns.set_palette(\"husl\")\n",
    "plt.rcParams['figure.figsize'] = (12, 8)\n",
    "\n",
    "print(\"✓ All libraries imported successfully\")\n",
    "print(\"✓ Project modules loaded\")\n",
    "print(\"✓ Plotting configuration set\")"
   ]
  },
  {
   "cell_type": "code",
   "execution_count": 44,
   "id": "4782c45f",
   "metadata": {},
   "outputs": [
    {
     "name": "stdout",
     "output_type": "stream",
     "text": [
      "Initializing AI Curriculum Planner System...\n",
      "✓ Curriculum created with 34 courses\n",
      "✓ 37 prerequisite relationships\n",
      "✓ 6 academic domains\n",
      "\n",
      "==================================================\n",
      "CURRICULUM OVERVIEW\n",
      "==================================================\n",
      "Total Courses: 34\n",
      "Total Prerequisites: 37\n",
      "Average Prerequisites per Course: 1.09\n",
      "Graph Complexity Score: 71\n",
      "\n",
      "Domain Distribution:\n",
      "  AI: 6 courses\n",
      "  Security: 4 courses\n",
      "  Data Science: 6 courses\n",
      "  Software Engineering: 9 courses\n",
      "  Systems: 4 courses\n",
      "  Theory: 5 courses\n",
      "\n",
      "✓ System initialization complete!\n"
     ]
    }
   ],
   "source": [
    "# Initialize Curriculum System\n",
    "print(\"Initializing AI Curriculum Planner System...\")\n",
    "\n",
    "# Create curriculum graph\n",
    "curriculum = create_sample_curriculum()\n",
    "print(f\"✓ Curriculum created with {len(curriculum.graph.nodes())} courses\")\n",
    "\n",
    "# Get basic statistics\n",
    "stats = curriculum.get_stats()\n",
    "print(f\"✓ {stats['total_prerequisites']} prerequisite relationships\")\n",
    "print(f\"✓ {len(stats['domains'])} academic domains\")\n",
    "\n",
    "# Create other components\n",
    "constraints = create_constraint_validator(curriculum)\n",
    "visualizer = create_visualizer(curriculum)\n",
    "\n",
    "print(\"\\n\" + \"=\"*50)\n",
    "print(\"CURRICULUM OVERVIEW\")\n",
    "print(\"=\"*50)\n",
    "print(f\"Total Courses: {stats['total_courses']}\")\n",
    "print(f\"Total Prerequisites: {stats['total_prerequisites']}\")\n",
    "print(f\"Average Prerequisites per Course: {stats['avg_prerequisites']:.2f}\")\n",
    "print(f\"Graph Complexity Score: {stats['complexity']}\")\n",
    "print(\"\\nDomain Distribution:\")\n",
    "for domain, count in stats['domains'].items():\n",
    "    print(f\"  {domain}: {count} courses\")\n",
    "\n",
    "print(\"\\n✓ System initialization complete!\")"
   ]
  },
  {
   "cell_type": "markdown",
   "id": "7d66f5a6",
   "metadata": {},
   "source": [
    "## 1. Curriculum Graph Visualization\n",
    "\n",
    "Let's explore the structure of our computer science curriculum as a directed graph where:\n",
    "- **Nodes** represent courses with attributes (domain, difficulty, credits)\n",
    "- **Edges** represent prerequisite relationships\n",
    "- **Colors** indicate academic domains\n",
    "- **Sizes** reflect course difficulty levels"
   ]
  },
  {
   "cell_type": "code",
   "execution_count": 45,
   "id": "350f8708",
   "metadata": {},
   "outputs": [
    {
     "name": "stdout",
     "output_type": "stream",
     "text": [
      "Creating clean top-down curriculum visualization...\n"
     ]
    },
    {
     "data": {
      "application/vnd.plotly.v1+json": {
       "config": {
        "plotlyServerURL": "https://plot.ly"
       },
       "data": [
        {
         "hoverinfo": "none",
         "line": {
          "color": "#BDC3C7",
          "width": 1.5
         },
         "mode": "lines",
         "showlegend": false,
         "type": "scatter",
         "x": [
          -0.75,
          -0.75,
          null,
          -0.75,
          0.75,
          null,
          -0.75,
          5.25,
          null,
          -0.75,
          -2.25,
          null,
          -0.75,
          -5.25,
          null,
          -0.75,
          -3.75,
          null,
          -0.75,
          -0.75,
          null,
          -0.75,
          0.75,
          null,
          5.25,
          -6.75,
          null,
          5.25,
          6.75,
          null,
          0.75,
          2.25,
          null,
          0.75,
          3.75,
          null,
          2.25,
          -1.5,
          null,
          2.25,
          3.75,
          null,
          2.25,
          5.25,
          null,
          -5.25,
          -5.25,
          null,
          -5.25,
          -3.75,
          null,
          3.75,
          -2.25,
          null,
          -2.25,
          -0.75,
          null,
          0.75,
          5.25,
          null,
          0.75,
          2.25,
          null,
          0.75,
          0,
          null,
          2.25,
          -3,
          null,
          2.25,
          -3.75,
          null,
          -2.25,
          -3,
          null,
          -2.25,
          -2.25,
          null,
          -2.25,
          -5.25,
          null,
          -6.75,
          -3,
          null,
          -6.75,
          -1.5,
          null,
          -3,
          -1.5,
          null,
          -3,
          0,
          null,
          -3,
          1.5,
          null,
          -2.25,
          0,
          null,
          -2.25,
          1.5,
          null,
          -2.25,
          3,
          null,
          -0.75,
          0.75,
          null,
          -0.75,
          2.25,
          null
         ],
         "y": [
          0,
          -2,
          null,
          0,
          -2,
          null,
          -2,
          -4,
          null,
          -2,
          -4,
          null,
          -2,
          -4,
          null,
          -2,
          -4,
          null,
          -2,
          -4,
          null,
          -2,
          -4,
          null,
          -4,
          -6,
          null,
          -4,
          -6,
          null,
          -2,
          -4,
          null,
          -2,
          -4,
          null,
          -4,
          -8,
          null,
          -4,
          -6,
          null,
          -4,
          -6,
          null,
          -4,
          -6,
          null,
          -4,
          -6,
          null,
          -4,
          -6,
          null,
          -4,
          -6,
          null,
          0,
          -4,
          null,
          0,
          -2,
          null,
          0,
          -8,
          null,
          0,
          -8,
          null,
          0,
          -6,
          null,
          0,
          -8,
          null,
          0,
          -2,
          null,
          0,
          -6,
          null,
          -6,
          -8,
          null,
          -6,
          -8,
          null,
          -8,
          -10,
          null,
          -8,
          -10,
          null,
          -8,
          -10,
          null,
          -6,
          -8,
          null,
          -6,
          -8,
          null,
          -6,
          -8,
          null,
          -4,
          -6,
          null,
          -4,
          -6,
          null
         ]
        },
        {
         "hoverinfo": "text",
         "hovertext": [
          "<b>CS101</b><br>Intro to Programming<br>Domain: Software Engineering<br>Level: 0<br>Prerequisites: None",
          "<b>CS102</b><br>Data Structures<br>Domain: Software Engineering<br>Level: 1<br>Prerequisites: CS101",
          "<b>CS201</b><br>Algorithms<br>Domain: Theory<br>Level: 2<br>Prerequisites: CS102, MATH101",
          "<b>CS210</b><br>Computer Architecture<br>Domain: Systems<br>Level: 1<br>Prerequisites: CS101",
          "<b>CS220</b><br>Operating Systems<br>Domain: Systems<br>Level: 2<br>Prerequisites: CS210",
          "<b>CS230</b><br>Database Systems<br>Domain: Data Science<br>Level: 2<br>Prerequisites: CS102",
          "<b>CS240</b><br>Computer Networks<br>Domain: Systems<br>Level: 2<br>Prerequisites: CS210",
          "<b>CS250</b><br>Software Engineering<br>Domain: Software Engineering<br>Level: 2<br>Prerequisites: CS102",
          "<b>MATH101</b><br>Discrete Mathematics<br>Domain: Theory<br>Level: 0<br>Prerequisites: None",
          "<b>MATH201</b><br>Linear Algebra<br>Domain: Theory<br>Level: 0<br>Prerequisites: None",
          "<b>MATH202</b><br>Statistics<br>Domain: Data Science<br>Level: 0<br>Prerequisites: None",
          "<b>CS301</b><br>Theory of Computation<br>Domain: Theory<br>Level: 1<br>Prerequisites: MATH101",
          "<b>CS310</b><br>Artificial Intelligence<br>Domain: AI<br>Level: 3<br>Prerequisites: CS201",
          "<b>CS311</b><br>Machine Learning<br>Domain: AI<br>Level: 4<br>Prerequisites: MATH201, MATH202, CS310",
          "<b>CS312</b><br>Deep Learning<br>Domain: AI<br>Level: 5<br>Prerequisites: CS311",
          "<b>CS313</b><br>Natural Language Processing<br>Domain: AI<br>Level: 5<br>Prerequisites: CS311",
          "<b>CS314</b><br>Computer Vision<br>Domain: AI<br>Level: 5<br>Prerequisites: CS311",
          "<b>CS315</b><br>Robotics<br>Domain: AI<br>Level: 4<br>Prerequisites: CS310, CS220",
          "<b>DS301</b><br>Data Mining<br>Domain: Data Science<br>Level: 3<br>Prerequisites: CS230, MATH202",
          "<b>DS302</b><br>Big Data Analytics<br>Domain: Data Science<br>Level: 3<br>Prerequisites: CS230, MATH201",
          "<b>DS303</b><br>Data Visualization<br>Domain: Data Science<br>Level: 2<br>Prerequisites: CS102",
          "<b>DS304</b><br>Statistical Learning<br>Domain: Data Science<br>Level: 1<br>Prerequisites: MATH202",
          "<b>SEC301</b><br>Cybersecurity Fundamentals<br>Domain: Security<br>Level: 3<br>Prerequisites: CS240",
          "<b>SEC302</b><br>Cryptography<br>Domain: Security<br>Level: 4<br>Prerequisites: SEC301, MATH101",
          "<b>SEC303</b><br>Network Security<br>Domain: Security<br>Level: 4<br>Prerequisites: SEC301",
          "<b>SEC304</b><br>Ethical Hacking<br>Domain: Security<br>Level: 4<br>Prerequisites: SEC301",
          "<b>SE301</b><br>Advanced Programming<br>Domain: Software Engineering<br>Level: 3<br>Prerequisites: CS250",
          "<b>SE302</b><br>Web Development<br>Domain: Software Engineering<br>Level: 2<br>Prerequisites: CS102",
          "<b>SE303</b><br>Mobile Development<br>Domain: Software Engineering<br>Level: 3<br>Prerequisites: SE302",
          "<b>SE304</b><br>DevOps<br>Domain: Software Engineering<br>Level: 3<br>Prerequisites: CS220",
          "<b>CS401</b><br>Distributed Systems<br>Domain: Systems<br>Level: 3<br>Prerequisites: CS220",
          "<b>CS402</b><br>Compiler Design<br>Domain: Theory<br>Level: 3<br>Prerequisites: CS201",
          "<b>CS403</b><br>Game Development<br>Domain: Software Engineering<br>Level: 3<br>Prerequisites: SE302",
          "<b>CS404</b><br>Human-Computer Interaction<br>Domain: Software Engineering<br>Level: 2<br>Prerequisites: CS102"
         ],
         "marker": {
          "color": [
           "#27AE60",
           "#27AE60",
           "#E67E22",
           "#F39C12",
           "#F39C12",
           "#9B59B6",
           "#F39C12",
           "#27AE60",
           "#E67E22",
           "#E67E22",
           "#9B59B6",
           "#E67E22",
           "#E74C3C",
           "#E74C3C",
           "#E74C3C",
           "#E74C3C",
           "#E74C3C",
           "#E74C3C",
           "#9B59B6",
           "#9B59B6",
           "#9B59B6",
           "#9B59B6",
           "#3498DB",
           "#3498DB",
           "#3498DB",
           "#3498DB",
           "#27AE60",
           "#27AE60",
           "#27AE60",
           "#27AE60",
           "#F39C12",
           "#E67E22",
           "#27AE60",
           "#27AE60"
          ],
          "line": {
           "color": "white",
           "width": 2
          },
          "opacity": 0.9,
          "size": [
           55,
           60,
           60,
           60,
           65,
           60,
           65,
           60,
           55,
           60,
           60,
           65,
           65,
           65,
           65,
           65,
           65,
           65,
           65,
           65,
           60,
           65,
           60,
           65,
           65,
           65,
           65,
           60,
           60,
           65,
           65,
           65,
           60,
           60
          ]
         },
         "mode": "markers+text",
         "showlegend": false,
         "text": [
          "CS101",
          "CS102",
          "CS201",
          "CS210",
          "CS220",
          "CS230",
          "CS240",
          "CS250",
          "MATH101",
          "MATH201",
          "MATH202",
          "CS301",
          "CS310",
          "CS311",
          "CS312",
          "CS313",
          "CS314",
          "CS315",
          "DS301",
          "DS302",
          "DS303",
          "DS304",
          "SEC301",
          "SEC302",
          "SEC303",
          "SEC304",
          "SE301",
          "SE302",
          "SE303",
          "SE304",
          "CS401",
          "CS402",
          "CS403",
          "CS404"
         ],
         "textfont": {
          "color": "white",
          "family": "Arial Black",
          "size": 11
         },
         "textposition": "middle center",
         "type": "scatter",
         "x": [
          -0.75,
          -0.75,
          5.25,
          0.75,
          2.25,
          -5.25,
          3.75,
          -2.25,
          0.75,
          2.25,
          -2.25,
          2.25,
          -6.75,
          -3,
          -1.5,
          0,
          1.5,
          -1.5,
          -5.25,
          -3.75,
          -3.75,
          -2.25,
          -2.25,
          0,
          1.5,
          3,
          -0.75,
          -0.75,
          0.75,
          3.75,
          5.25,
          6.75,
          2.25,
          0.75
         ],
         "y": [
          0,
          -2,
          -4,
          -2,
          -4,
          -4,
          -4,
          -4,
          0,
          0,
          0,
          -2,
          -6,
          -8,
          -10,
          -10,
          -10,
          -8,
          -6,
          -6,
          -4,
          -2,
          -6,
          -8,
          -8,
          -8,
          -6,
          -4,
          -6,
          -6,
          -6,
          -6,
          -6,
          -4
         ]
        },
        {
         "hoverinfo": "skip",
         "marker": {
          "color": "#E74C3C",
          "line": {
           "color": "white",
           "width": 1
          },
          "size": 15
         },
         "mode": "markers+text",
         "showlegend": false,
         "text": "AI",
         "textfont": {
          "color": "#2C3E50",
          "size": 10
         },
         "textposition": "middle right",
         "type": "scatter",
         "x": [
          7.75
         ],
         "y": [
          -11
         ]
        },
        {
         "hoverinfo": "skip",
         "marker": {
          "color": "#3498DB",
          "line": {
           "color": "white",
           "width": 1
          },
          "size": 15
         },
         "mode": "markers+text",
         "showlegend": false,
         "text": "Security",
         "textfont": {
          "color": "#2C3E50",
          "size": 10
         },
         "textposition": "middle right",
         "type": "scatter",
         "x": [
          7.75
         ],
         "y": [
          -11.3
         ]
        },
        {
         "hoverinfo": "skip",
         "marker": {
          "color": "#9B59B6",
          "line": {
           "color": "white",
           "width": 1
          },
          "size": 15
         },
         "mode": "markers+text",
         "showlegend": false,
         "text": "Data Science",
         "textfont": {
          "color": "#2C3E50",
          "size": 10
         },
         "textposition": "middle right",
         "type": "scatter",
         "x": [
          7.75
         ],
         "y": [
          -11.6
         ]
        },
        {
         "hoverinfo": "skip",
         "marker": {
          "color": "#27AE60",
          "line": {
           "color": "white",
           "width": 1
          },
          "size": 15
         },
         "mode": "markers+text",
         "showlegend": false,
         "text": "Software Engineering",
         "textfont": {
          "color": "#2C3E50",
          "size": 10
         },
         "textposition": "middle right",
         "type": "scatter",
         "x": [
          7.75
         ],
         "y": [
          -11.9
         ]
        },
        {
         "hoverinfo": "skip",
         "marker": {
          "color": "#F39C12",
          "line": {
           "color": "white",
           "width": 1
          },
          "size": 15
         },
         "mode": "markers+text",
         "showlegend": false,
         "text": "Systems",
         "textfont": {
          "color": "#2C3E50",
          "size": 10
         },
         "textposition": "middle right",
         "type": "scatter",
         "x": [
          7.75
         ],
         "y": [
          -12.2
         ]
        },
        {
         "hoverinfo": "skip",
         "marker": {
          "color": "#E67E22",
          "line": {
           "color": "white",
           "width": 1
          },
          "size": 15
         },
         "mode": "markers+text",
         "showlegend": false,
         "text": "Theory",
         "textfont": {
          "color": "#2C3E50",
          "size": 10
         },
         "textposition": "middle right",
         "type": "scatter",
         "x": [
          7.75
         ],
         "y": [
          -12.5
         ]
        }
       ],
       "layout": {
        "annotations": [
         {
          "font": {
           "color": "#2C3E50",
           "size": 14
          },
          "showarrow": false,
          "text": "<b>Level 0</b>",
          "x": -4.25,
          "xanchor": "right",
          "y": 0
         },
         {
          "font": {
           "color": "#2C3E50",
           "size": 14
          },
          "showarrow": false,
          "text": "<b>Level 1</b>",
          "x": -4.25,
          "xanchor": "right",
          "y": -2
         },
         {
          "font": {
           "color": "#2C3E50",
           "size": 14
          },
          "showarrow": false,
          "text": "<b>Level 2</b>",
          "x": -7.25,
          "xanchor": "right",
          "y": -4
         },
         {
          "font": {
           "color": "#2C3E50",
           "size": 14
          },
          "showarrow": false,
          "text": "<b>Level 3</b>",
          "x": -8.75,
          "xanchor": "right",
          "y": -6
         },
         {
          "font": {
           "color": "#2C3E50",
           "size": 14
          },
          "showarrow": false,
          "text": "<b>Level 4</b>",
          "x": -5,
          "xanchor": "right",
          "y": -8
         },
         {
          "font": {
           "color": "#2C3E50",
           "size": 14
          },
          "showarrow": false,
          "text": "<b>Level 5</b>",
          "x": -3.5,
          "xanchor": "right",
          "y": -10
         }
        ],
        "height": 800,
        "hovermode": "closest",
        "margin": {
         "b": 50,
         "l": 50,
         "r": 200,
         "t": 80
        },
        "paper_bgcolor": "white",
        "plot_bgcolor": "white",
        "showlegend": false,
        "template": {
         "data": {
          "bar": [
           {
            "error_x": {
             "color": "#2a3f5f"
            },
            "error_y": {
             "color": "#2a3f5f"
            },
            "marker": {
             "line": {
              "color": "#E5ECF6",
              "width": 0.5
             },
             "pattern": {
              "fillmode": "overlay",
              "size": 10,
              "solidity": 0.2
             }
            },
            "type": "bar"
           }
          ],
          "barpolar": [
           {
            "marker": {
             "line": {
              "color": "#E5ECF6",
              "width": 0.5
             },
             "pattern": {
              "fillmode": "overlay",
              "size": 10,
              "solidity": 0.2
             }
            },
            "type": "barpolar"
           }
          ],
          "carpet": [
           {
            "aaxis": {
             "endlinecolor": "#2a3f5f",
             "gridcolor": "white",
             "linecolor": "white",
             "minorgridcolor": "white",
             "startlinecolor": "#2a3f5f"
            },
            "baxis": {
             "endlinecolor": "#2a3f5f",
             "gridcolor": "white",
             "linecolor": "white",
             "minorgridcolor": "white",
             "startlinecolor": "#2a3f5f"
            },
            "type": "carpet"
           }
          ],
          "choropleth": [
           {
            "colorbar": {
             "outlinewidth": 0,
             "ticks": ""
            },
            "type": "choropleth"
           }
          ],
          "contour": [
           {
            "colorbar": {
             "outlinewidth": 0,
             "ticks": ""
            },
            "colorscale": [
             [
              0,
              "#0d0887"
             ],
             [
              0.1111111111111111,
              "#46039f"
             ],
             [
              0.2222222222222222,
              "#7201a8"
             ],
             [
              0.3333333333333333,
              "#9c179e"
             ],
             [
              0.4444444444444444,
              "#bd3786"
             ],
             [
              0.5555555555555556,
              "#d8576b"
             ],
             [
              0.6666666666666666,
              "#ed7953"
             ],
             [
              0.7777777777777778,
              "#fb9f3a"
             ],
             [
              0.8888888888888888,
              "#fdca26"
             ],
             [
              1,
              "#f0f921"
             ]
            ],
            "type": "contour"
           }
          ],
          "contourcarpet": [
           {
            "colorbar": {
             "outlinewidth": 0,
             "ticks": ""
            },
            "type": "contourcarpet"
           }
          ],
          "heatmap": [
           {
            "colorbar": {
             "outlinewidth": 0,
             "ticks": ""
            },
            "colorscale": [
             [
              0,
              "#0d0887"
             ],
             [
              0.1111111111111111,
              "#46039f"
             ],
             [
              0.2222222222222222,
              "#7201a8"
             ],
             [
              0.3333333333333333,
              "#9c179e"
             ],
             [
              0.4444444444444444,
              "#bd3786"
             ],
             [
              0.5555555555555556,
              "#d8576b"
             ],
             [
              0.6666666666666666,
              "#ed7953"
             ],
             [
              0.7777777777777778,
              "#fb9f3a"
             ],
             [
              0.8888888888888888,
              "#fdca26"
             ],
             [
              1,
              "#f0f921"
             ]
            ],
            "type": "heatmap"
           }
          ],
          "heatmapgl": [
           {
            "colorbar": {
             "outlinewidth": 0,
             "ticks": ""
            },
            "colorscale": [
             [
              0,
              "#0d0887"
             ],
             [
              0.1111111111111111,
              "#46039f"
             ],
             [
              0.2222222222222222,
              "#7201a8"
             ],
             [
              0.3333333333333333,
              "#9c179e"
             ],
             [
              0.4444444444444444,
              "#bd3786"
             ],
             [
              0.5555555555555556,
              "#d8576b"
             ],
             [
              0.6666666666666666,
              "#ed7953"
             ],
             [
              0.7777777777777778,
              "#fb9f3a"
             ],
             [
              0.8888888888888888,
              "#fdca26"
             ],
             [
              1,
              "#f0f921"
             ]
            ],
            "type": "heatmapgl"
           }
          ],
          "histogram": [
           {
            "marker": {
             "pattern": {
              "fillmode": "overlay",
              "size": 10,
              "solidity": 0.2
             }
            },
            "type": "histogram"
           }
          ],
          "histogram2d": [
           {
            "colorbar": {
             "outlinewidth": 0,
             "ticks": ""
            },
            "colorscale": [
             [
              0,
              "#0d0887"
             ],
             [
              0.1111111111111111,
              "#46039f"
             ],
             [
              0.2222222222222222,
              "#7201a8"
             ],
             [
              0.3333333333333333,
              "#9c179e"
             ],
             [
              0.4444444444444444,
              "#bd3786"
             ],
             [
              0.5555555555555556,
              "#d8576b"
             ],
             [
              0.6666666666666666,
              "#ed7953"
             ],
             [
              0.7777777777777778,
              "#fb9f3a"
             ],
             [
              0.8888888888888888,
              "#fdca26"
             ],
             [
              1,
              "#f0f921"
             ]
            ],
            "type": "histogram2d"
           }
          ],
          "histogram2dcontour": [
           {
            "colorbar": {
             "outlinewidth": 0,
             "ticks": ""
            },
            "colorscale": [
             [
              0,
              "#0d0887"
             ],
             [
              0.1111111111111111,
              "#46039f"
             ],
             [
              0.2222222222222222,
              "#7201a8"
             ],
             [
              0.3333333333333333,
              "#9c179e"
             ],
             [
              0.4444444444444444,
              "#bd3786"
             ],
             [
              0.5555555555555556,
              "#d8576b"
             ],
             [
              0.6666666666666666,
              "#ed7953"
             ],
             [
              0.7777777777777778,
              "#fb9f3a"
             ],
             [
              0.8888888888888888,
              "#fdca26"
             ],
             [
              1,
              "#f0f921"
             ]
            ],
            "type": "histogram2dcontour"
           }
          ],
          "mesh3d": [
           {
            "colorbar": {
             "outlinewidth": 0,
             "ticks": ""
            },
            "type": "mesh3d"
           }
          ],
          "parcoords": [
           {
            "line": {
             "colorbar": {
              "outlinewidth": 0,
              "ticks": ""
             }
            },
            "type": "parcoords"
           }
          ],
          "pie": [
           {
            "automargin": true,
            "type": "pie"
           }
          ],
          "scatter": [
           {
            "fillpattern": {
             "fillmode": "overlay",
             "size": 10,
             "solidity": 0.2
            },
            "type": "scatter"
           }
          ],
          "scatter3d": [
           {
            "line": {
             "colorbar": {
              "outlinewidth": 0,
              "ticks": ""
             }
            },
            "marker": {
             "colorbar": {
              "outlinewidth": 0,
              "ticks": ""
             }
            },
            "type": "scatter3d"
           }
          ],
          "scattercarpet": [
           {
            "marker": {
             "colorbar": {
              "outlinewidth": 0,
              "ticks": ""
             }
            },
            "type": "scattercarpet"
           }
          ],
          "scattergeo": [
           {
            "marker": {
             "colorbar": {
              "outlinewidth": 0,
              "ticks": ""
             }
            },
            "type": "scattergeo"
           }
          ],
          "scattergl": [
           {
            "marker": {
             "colorbar": {
              "outlinewidth": 0,
              "ticks": ""
             }
            },
            "type": "scattergl"
           }
          ],
          "scattermapbox": [
           {
            "marker": {
             "colorbar": {
              "outlinewidth": 0,
              "ticks": ""
             }
            },
            "type": "scattermapbox"
           }
          ],
          "scatterpolar": [
           {
            "marker": {
             "colorbar": {
              "outlinewidth": 0,
              "ticks": ""
             }
            },
            "type": "scatterpolar"
           }
          ],
          "scatterpolargl": [
           {
            "marker": {
             "colorbar": {
              "outlinewidth": 0,
              "ticks": ""
             }
            },
            "type": "scatterpolargl"
           }
          ],
          "scatterternary": [
           {
            "marker": {
             "colorbar": {
              "outlinewidth": 0,
              "ticks": ""
             }
            },
            "type": "scatterternary"
           }
          ],
          "surface": [
           {
            "colorbar": {
             "outlinewidth": 0,
             "ticks": ""
            },
            "colorscale": [
             [
              0,
              "#0d0887"
             ],
             [
              0.1111111111111111,
              "#46039f"
             ],
             [
              0.2222222222222222,
              "#7201a8"
             ],
             [
              0.3333333333333333,
              "#9c179e"
             ],
             [
              0.4444444444444444,
              "#bd3786"
             ],
             [
              0.5555555555555556,
              "#d8576b"
             ],
             [
              0.6666666666666666,
              "#ed7953"
             ],
             [
              0.7777777777777778,
              "#fb9f3a"
             ],
             [
              0.8888888888888888,
              "#fdca26"
             ],
             [
              1,
              "#f0f921"
             ]
            ],
            "type": "surface"
           }
          ],
          "table": [
           {
            "cells": {
             "fill": {
              "color": "#EBF0F8"
             },
             "line": {
              "color": "white"
             }
            },
            "header": {
             "fill": {
              "color": "#C8D4E3"
             },
             "line": {
              "color": "white"
             }
            },
            "type": "table"
           }
          ]
         },
         "layout": {
          "annotationdefaults": {
           "arrowcolor": "#2a3f5f",
           "arrowhead": 0,
           "arrowwidth": 1
          },
          "autotypenumbers": "strict",
          "coloraxis": {
           "colorbar": {
            "outlinewidth": 0,
            "ticks": ""
           }
          },
          "colorscale": {
           "diverging": [
            [
             0,
             "#8e0152"
            ],
            [
             0.1,
             "#c51b7d"
            ],
            [
             0.2,
             "#de77ae"
            ],
            [
             0.3,
             "#f1b6da"
            ],
            [
             0.4,
             "#fde0ef"
            ],
            [
             0.5,
             "#f7f7f7"
            ],
            [
             0.6,
             "#e6f5d0"
            ],
            [
             0.7,
             "#b8e186"
            ],
            [
             0.8,
             "#7fbc41"
            ],
            [
             0.9,
             "#4d9221"
            ],
            [
             1,
             "#276419"
            ]
           ],
           "sequential": [
            [
             0,
             "#0d0887"
            ],
            [
             0.1111111111111111,
             "#46039f"
            ],
            [
             0.2222222222222222,
             "#7201a8"
            ],
            [
             0.3333333333333333,
             "#9c179e"
            ],
            [
             0.4444444444444444,
             "#bd3786"
            ],
            [
             0.5555555555555556,
             "#d8576b"
            ],
            [
             0.6666666666666666,
             "#ed7953"
            ],
            [
             0.7777777777777778,
             "#fb9f3a"
            ],
            [
             0.8888888888888888,
             "#fdca26"
            ],
            [
             1,
             "#f0f921"
            ]
           ],
           "sequentialminus": [
            [
             0,
             "#0d0887"
            ],
            [
             0.1111111111111111,
             "#46039f"
            ],
            [
             0.2222222222222222,
             "#7201a8"
            ],
            [
             0.3333333333333333,
             "#9c179e"
            ],
            [
             0.4444444444444444,
             "#bd3786"
            ],
            [
             0.5555555555555556,
             "#d8576b"
            ],
            [
             0.6666666666666666,
             "#ed7953"
            ],
            [
             0.7777777777777778,
             "#fb9f3a"
            ],
            [
             0.8888888888888888,
             "#fdca26"
            ],
            [
             1,
             "#f0f921"
            ]
           ]
          },
          "colorway": [
           "#636efa",
           "#EF553B",
           "#00cc96",
           "#ab63fa",
           "#FFA15A",
           "#19d3f3",
           "#FF6692",
           "#B6E880",
           "#FF97FF",
           "#FECB52"
          ],
          "font": {
           "color": "#2a3f5f"
          },
          "geo": {
           "bgcolor": "white",
           "lakecolor": "white",
           "landcolor": "#E5ECF6",
           "showlakes": true,
           "showland": true,
           "subunitcolor": "white"
          },
          "hoverlabel": {
           "align": "left"
          },
          "hovermode": "closest",
          "mapbox": {
           "style": "light"
          },
          "paper_bgcolor": "white",
          "plot_bgcolor": "#E5ECF6",
          "polar": {
           "angularaxis": {
            "gridcolor": "white",
            "linecolor": "white",
            "ticks": ""
           },
           "bgcolor": "#E5ECF6",
           "radialaxis": {
            "gridcolor": "white",
            "linecolor": "white",
            "ticks": ""
           }
          },
          "scene": {
           "xaxis": {
            "backgroundcolor": "#E5ECF6",
            "gridcolor": "white",
            "gridwidth": 2,
            "linecolor": "white",
            "showbackground": true,
            "ticks": "",
            "zerolinecolor": "white"
           },
           "yaxis": {
            "backgroundcolor": "#E5ECF6",
            "gridcolor": "white",
            "gridwidth": 2,
            "linecolor": "white",
            "showbackground": true,
            "ticks": "",
            "zerolinecolor": "white"
           },
           "zaxis": {
            "backgroundcolor": "#E5ECF6",
            "gridcolor": "white",
            "gridwidth": 2,
            "linecolor": "white",
            "showbackground": true,
            "ticks": "",
            "zerolinecolor": "white"
           }
          },
          "shapedefaults": {
           "line": {
            "color": "#2a3f5f"
           }
          },
          "ternary": {
           "aaxis": {
            "gridcolor": "white",
            "linecolor": "white",
            "ticks": ""
           },
           "baxis": {
            "gridcolor": "white",
            "linecolor": "white",
            "ticks": ""
           },
           "bgcolor": "#E5ECF6",
           "caxis": {
            "gridcolor": "white",
            "linecolor": "white",
            "ticks": ""
           }
          },
          "title": {
           "x": 0.05
          },
          "xaxis": {
           "automargin": true,
           "gridcolor": "white",
           "linecolor": "white",
           "ticks": "",
           "title": {
            "standoff": 15
           },
           "zerolinecolor": "white",
           "zerolinewidth": 2
          },
          "yaxis": {
           "automargin": true,
           "gridcolor": "white",
           "linecolor": "white",
           "ticks": "",
           "title": {
            "standoff": 15
           },
           "zerolinecolor": "white",
           "zerolinewidth": 2
          }
         }
        },
        "title": {
         "font": {
          "color": "#2C3E50",
          "size": 20
         },
         "text": "Computer Science Curriculum - Top-Down Hierarchical View",
         "x": 0.5
        },
        "width": 1200,
        "xaxis": {
         "range": [
          -9.75,
          10.75
         ],
         "showgrid": false,
         "showticklabels": false,
         "zeroline": false
        },
        "yaxis": {
         "range": [
          -11,
          1
         ],
         "showgrid": false,
         "showticklabels": false,
         "zeroline": false
        }
       }
      }
     },
     "metadata": {},
     "output_type": "display_data"
    },
    {
     "name": "stdout",
     "output_type": "stream",
     "text": [
      "✓ Clean top-down curriculum graph created!\n",
      "✓ Courses are organized by academic level (top to bottom)\n",
      "✓ Colors represent different domains\n",
      "✓ Hover over nodes for detailed information\n"
     ]
    }
   ],
   "source": [
    "# Create Clean Top-Down Curriculum Graph\n",
    "print(\"Creating clean top-down curriculum visualization...\")\n",
    "\n",
    "# Get graph data\n",
    "G = curriculum.graph\n",
    "\n",
    "# Calculate course levels for hierarchical layout\n",
    "course_levels = {}\n",
    "topo_order = list(nx.topological_sort(G))\n",
    "for node in topo_order:\n",
    "    prereqs = curriculum.get_prerequisites(node)\n",
    "    if not prereqs:\n",
    "        course_levels[node] = 0  # Starting level\n",
    "    else:\n",
    "        max_prereq_level = max(course_levels.get(prereq, 0) for prereq in prereqs)\n",
    "        course_levels[node] = max_prereq_level + 1\n",
    "\n",
    "# Group courses by level\n",
    "max_level = max(course_levels.values())\n",
    "level_nodes = {level: [] for level in range(max_level + 1)}\n",
    "for node, level in course_levels.items():\n",
    "    level_nodes[level].append(node)\n",
    "\n",
    "# Create clean top-down layout\n",
    "pos = {}\n",
    "y_spacing = -2.0  # Vertical spacing between levels (negative for top-down)\n",
    "x_spacing = 1.5   # Horizontal spacing between nodes\n",
    "\n",
    "for level, nodes in level_nodes.items():\n",
    "    y = level * y_spacing  # Top-down arrangement\n",
    "    num_nodes = len(nodes)\n",
    "    \n",
    "    # Center the nodes horizontally\n",
    "    if num_nodes == 1:\n",
    "        x_positions = [0]\n",
    "    else:\n",
    "        total_width = (num_nodes - 1) * x_spacing\n",
    "        x_positions = [i * x_spacing - total_width / 2 for i in range(num_nodes)]\n",
    "    \n",
    "    # Sort nodes by domain for better visual grouping\n",
    "    nodes_sorted = sorted(nodes, key=lambda n: curriculum.get_course_info(n).get('domain', 'ZZZ'))\n",
    "    \n",
    "    for i, node in enumerate(nodes_sorted):\n",
    "        pos[node] = (x_positions[i], y)\n",
    "\n",
    "# Prepare node styling\n",
    "node_x, node_y, node_text, node_color, node_size = [], [], [], [], []\n",
    "\n",
    "domain_colors = {\n",
    "    'AI': '#E74C3C', 'Security': '#3498DB', 'Data Science': '#9B59B6',\n",
    "    'Software Engineering': '#27AE60', 'Systems': '#F39C12', 'Theory': '#E67E22'\n",
    "}\n",
    "\n",
    "for node in G.nodes():\n",
    "    x, y = pos[node]\n",
    "    node_x.append(x)\n",
    "    node_y.append(y)\n",
    "    \n",
    "    course_info = curriculum.get_course_info(node)\n",
    "    domain = course_info.get('domain', 'Other')\n",
    "    difficulty = course_info.get('difficulty', 'Intermediate')\n",
    "    \n",
    "    # Clean color scheme\n",
    "    node_color.append(domain_colors.get(domain, '#95A5A6'))\n",
    "    \n",
    "    # Larger sizing to accommodate text\n",
    "    size_map = {'Beginner': 55, 'Intermediate': 60, 'Advanced': 65}\n",
    "    node_size.append(size_map.get(difficulty, 60))\n",
    "    \n",
    "    # Clean hover information\n",
    "    prereqs = curriculum.get_prerequisites(node)\n",
    "    level = course_levels.get(node, 0)\n",
    "    \n",
    "    text = (f\"<b>{node}</b><br>\"\n",
    "            f\"{course_info.get('name', 'Unknown')}<br>\"\n",
    "            f\"Domain: {domain}<br>\"\n",
    "            f\"Level: {level}<br>\"\n",
    "            f\"Prerequisites: {', '.join(prereqs) if prereqs else 'None'}\")\n",
    "    node_text.append(text)\n",
    "\n",
    "# Create simple edge traces\n",
    "edge_x, edge_y = [], []\n",
    "for edge in G.edges():\n",
    "    x0, y0 = pos[edge[0]]\n",
    "    x1, y1 = pos[edge[1]]\n",
    "    edge_x.extend([x0, x1, None])\n",
    "    edge_y.extend([y0, y1, None])\n",
    "\n",
    "# Create the plot\n",
    "fig = go.Figure()\n",
    "\n",
    "# Add clean edges\n",
    "fig.add_trace(go.Scatter(\n",
    "    x=edge_x, y=edge_y,\n",
    "    mode='lines',\n",
    "    line=dict(width=1.5, color='#BDC3C7'),\n",
    "    hoverinfo='none',\n",
    "    showlegend=False\n",
    "))\n",
    "\n",
    "# Add nodes\n",
    "fig.add_trace(go.Scatter(\n",
    "    x=node_x, y=node_y, \n",
    "    mode='markers+text',\n",
    "    marker=dict(\n",
    "        size=node_size, \n",
    "        color=node_color, \n",
    "        line=dict(width=2, color='white'),\n",
    "        opacity=0.9\n",
    "    ),\n",
    "    text=[node for node in G.nodes()], \n",
    "    textposition=\"middle center\",\n",
    "    textfont=dict(size=11, color='white', family='Arial Black'), \n",
    "    hovertext=node_text,\n",
    "    hoverinfo='text',\n",
    "    showlegend=False\n",
    "))\n",
    "\n",
    "# Add level labels\n",
    "for level in range(max_level + 1):\n",
    "    if level_nodes[level]:  # Only add label if level has courses\n",
    "        fig.add_annotation(\n",
    "            x=min(pos[node][0] for node in level_nodes[level]) - 2,\n",
    "            y=level * y_spacing,\n",
    "            text=f\"<b>Level {level}</b>\",\n",
    "            showarrow=False,\n",
    "            font=dict(size=14, color='#2C3E50'),\n",
    "            xanchor='right'\n",
    "        )\n",
    "\n",
    "# Add domain legend\n",
    "legend_y = max_level * y_spacing - 1\n",
    "legend_x = max(node_x) + 1\n",
    "for i, (domain, color) in enumerate(domain_colors.items()):\n",
    "    fig.add_trace(go.Scatter(\n",
    "        x=[legend_x], y=[legend_y - i * 0.3],\n",
    "        mode='markers+text',\n",
    "        marker=dict(size=15, color=color, line=dict(width=1, color='white')),\n",
    "        text=domain,\n",
    "        textposition=\"middle right\",\n",
    "        textfont=dict(size=10, color='#2C3E50'),\n",
    "        hoverinfo='skip',\n",
    "        showlegend=False\n",
    "    ))\n",
    "\n",
    "# Update layout\n",
    "fig.update_layout(\n",
    "    title=dict(\n",
    "        text=\"Computer Science Curriculum - Top-Down Hierarchical View\",\n",
    "        font=dict(size=20, color='#2C3E50'),\n",
    "        x=0.5\n",
    "    ),\n",
    "    showlegend=False,\n",
    "    hovermode='closest',\n",
    "    xaxis=dict(\n",
    "        showgrid=False, \n",
    "        zeroline=False, \n",
    "        showticklabels=False,\n",
    "        range=[min(node_x) - 3, max(node_x) + 4]\n",
    "    ),\n",
    "    yaxis=dict(\n",
    "        showgrid=False, \n",
    "        zeroline=False, \n",
    "        showticklabels=False,\n",
    "        range=[min(node_y) - 1, max(node_y) + 1]\n",
    "    ),\n",
    "    width=1200, \n",
    "    height=800,\n",
    "    plot_bgcolor='white',\n",
    "    paper_bgcolor='white',\n",
    "    margin=dict(l=50, r=200, t=80, b=50)\n",
    ")\n",
    "\n",
    "fig.show()\n",
    "\n",
    "print(\"✓ Clean top-down curriculum graph created!\")\n",
    "print(\"✓ Courses are organized by academic level (top to bottom)\")\n",
    "print(\"✓ Colors represent different domains\")\n",
    "print(\"✓ Hover over nodes for detailed information\")"
   ]
  },
  {
   "cell_type": "markdown",
   "id": "49fed8fb",
   "metadata": {},
   "source": [
    "## 2. Course Analysis and Statistics\n",
    "\n",
    "Let's dive deeper into the individual courses and their characteristics."
   ]
  },
  {
   "cell_type": "code",
   "execution_count": 46,
   "id": "46466eea",
   "metadata": {},
   "outputs": [
    {
     "name": "stdout",
     "output_type": "stream",
     "text": [
      "Analyzing course characteristics...\n",
      "📊 COURSE STATISTICS\n",
      "Total Courses: 34\n",
      "Average Credits: 3.0\n",
      "Average Direct Prerequisites: 1.1\n",
      "Average Total Prerequisites: 3.1\n",
      "\n",
      "📈 DOMAIN DISTRIBUTION\n",
      "  Software Engineering: 9 courses (26.5%)\n",
      "  Data Science: 6 courses (17.6%)\n",
      "  AI: 6 courses (17.6%)\n",
      "  Theory: 5 courses (14.7%)\n",
      "  Systems: 4 courses (11.8%)\n",
      "  Security: 4 courses (11.8%)\n",
      "\n",
      "🎯 DIFFICULTY DISTRIBUTION\n",
      "  Advanced: 19 courses (55.9%)\n",
      "  Intermediate: 13 courses (38.2%)\n",
      "  Beginner: 2 courses (5.9%)\n",
      "\n",
      "📋 SAMPLE COURSES\n",
      " Course                  Name               Domain   Difficulty  Direct_Prerequisites Prerequisites_List\n",
      "  CS101  Intro to Programming Software Engineering     Beginner                     0               None\n",
      "  CS102       Data Structures Software Engineering Intermediate                     1              CS101\n",
      "  CS201            Algorithms               Theory Intermediate                     2     CS102, MATH101\n",
      "  CS210 Computer Architecture              Systems Intermediate                     1              CS101\n",
      "  CS220     Operating Systems              Systems     Advanced                     1              CS210\n",
      "  CS230      Database Systems         Data Science Intermediate                     1              CS102\n",
      "  CS240     Computer Networks              Systems     Advanced                     1              CS210\n",
      "  CS250  Software Engineering Software Engineering Intermediate                     1              CS102\n",
      "MATH101  Discrete Mathematics               Theory     Beginner                     0               None\n",
      "MATH201        Linear Algebra               Theory Intermediate                     0               None\n",
      "\n",
      "✓ Course analysis complete!\n"
     ]
    }
   ],
   "source": [
    "# Course Analysis and Statistics\n",
    "print(\"Analyzing course characteristics...\")\n",
    "\n",
    "# Create course dataframe\n",
    "course_data = []\n",
    "for node in curriculum.graph.nodes():\n",
    "    course_info = curriculum.get_course_info(node)\n",
    "    prereqs = curriculum.get_prerequisites(node)\n",
    "    all_prereqs = curriculum.get_all_prerequisites(node)\n",
    "    \n",
    "    course_data.append({\n",
    "        'Course': node,\n",
    "        'Name': course_info.get('name', 'Unknown'),\n",
    "        'Domain': course_info.get('domain', 'Other'),\n",
    "        'Difficulty': course_info.get('difficulty', 'Intermediate'),\n",
    "        'Credits': course_info.get('credits', 3),\n",
    "        'Direct_Prerequisites': len(prereqs),\n",
    "        'Total_Prerequisites': len(all_prereqs),\n",
    "        'Prerequisites_List': ', '.join(prereqs) if prereqs else 'None'\n",
    "    })\n",
    "\n",
    "courses_df = pd.DataFrame(course_data)\n",
    "\n",
    "# Display basic statistics\n",
    "print(f\"📊 COURSE STATISTICS\")\n",
    "print(f\"Total Courses: {len(courses_df)}\")\n",
    "print(f\"Average Credits: {courses_df['Credits'].mean():.1f}\")\n",
    "print(f\"Average Direct Prerequisites: {courses_df['Direct_Prerequisites'].mean():.1f}\")\n",
    "print(f\"Average Total Prerequisites: {courses_df['Total_Prerequisites'].mean():.1f}\")\n",
    "\n",
    "# Show distribution by domain\n",
    "print(f\"\\n📈 DOMAIN DISTRIBUTION\")\n",
    "domain_counts = courses_df['Domain'].value_counts()\n",
    "for domain, count in domain_counts.items():\n",
    "    percentage = (count / len(courses_df)) * 100\n",
    "    print(f\"  {domain}: {count} courses ({percentage:.1f}%)\")\n",
    "\n",
    "# Show distribution by difficulty\n",
    "print(f\"\\n🎯 DIFFICULTY DISTRIBUTION\")\n",
    "difficulty_counts = courses_df['Difficulty'].value_counts()\n",
    "for difficulty, count in difficulty_counts.items():\n",
    "    percentage = (count / len(courses_df)) * 100\n",
    "    print(f\"  {difficulty}: {count} courses ({percentage:.1f}%)\")\n",
    "\n",
    "# Display first few courses with details\n",
    "print(f\"\\n📋 SAMPLE COURSES\")\n",
    "display_cols = ['Course', 'Name', 'Domain', 'Difficulty', 'Direct_Prerequisites', 'Prerequisites_List']\n",
    "print(courses_df[display_cols].head(10).to_string(index=False))\n",
    "\n",
    "print(\"\\n✓ Course analysis complete!\")"
   ]
  },
  {
   "cell_type": "code",
   "execution_count": 47,
   "id": "2bca3af5",
   "metadata": {},
   "outputs": [
    {
     "data": {
      "application/vnd.plotly.v1+json": {
       "config": {
        "plotlyServerURL": "https://plot.ly"
       },
       "data": [
        {
         "domain": {
          "x": [
           0,
           0.45
          ],
          "y": [
           0.625,
           1
          ]
         },
         "hole": 0.3,
         "labels": [
          "Software Engineering",
          "Data Science",
          "AI",
          "Theory",
          "Systems",
          "Security"
         ],
         "name": "Domain Distribution",
         "type": "pie",
         "values": [
          9,
          6,
          6,
          5,
          4,
          4
         ]
        },
        {
         "marker": {
          "color": "lightblue"
         },
         "name": "Difficulty Distribution",
         "type": "bar",
         "x": [
          "Advanced",
          "Intermediate",
          "Beginner"
         ],
         "xaxis": "x",
         "y": [
          19,
          13,
          2
         ],
         "yaxis": "y"
        },
        {
         "marker": {
          "color": "lightgreen"
         },
         "name": "Direct",
         "type": "box",
         "xaxis": "x2",
         "y": [
          0,
          1,
          2,
          1,
          1,
          1,
          1,
          1,
          0,
          0,
          0,
          1,
          1,
          3,
          1,
          1,
          1,
          2,
          2,
          2,
          1,
          1,
          1,
          2,
          1,
          1,
          1,
          1,
          1,
          1,
          1,
          1,
          1,
          1
         ],
         "yaxis": "y2"
        },
        {
         "marker": {
          "color": "orange"
         },
         "name": "Total",
         "type": "box",
         "xaxis": "x2",
         "y": [
          0,
          1,
          3,
          1,
          2,
          2,
          2,
          2,
          0,
          0,
          0,
          1,
          4,
          7,
          8,
          8,
          8,
          7,
          4,
          4,
          2,
          1,
          3,
          5,
          4,
          4,
          3,
          2,
          3,
          3,
          3,
          4,
          3,
          2
         ],
         "yaxis": "y2"
        },
        {
         "marker": {
          "color": "lightcoral"
         },
         "name": "Credits",
         "nbinsx": 5,
         "type": "histogram",
         "x": [
          3,
          3,
          3,
          3,
          3,
          3,
          3,
          3,
          3,
          3,
          3,
          3,
          3,
          3,
          3,
          3,
          3,
          3,
          3,
          3,
          3,
          3,
          3,
          3,
          3,
          3,
          3,
          3,
          3,
          3,
          3,
          3,
          3,
          3
         ],
         "xaxis": "x3",
         "yaxis": "y3"
        }
       ],
       "layout": {
        "annotations": [
         {
          "font": {
           "size": 16
          },
          "showarrow": false,
          "text": "Domain Distribution",
          "x": 0.225,
          "xanchor": "center",
          "xref": "paper",
          "y": 1,
          "yanchor": "bottom",
          "yref": "paper"
         },
         {
          "font": {
           "size": 16
          },
          "showarrow": false,
          "text": "Difficulty Distribution",
          "x": 0.775,
          "xanchor": "center",
          "xref": "paper",
          "y": 1,
          "yanchor": "bottom",
          "yref": "paper"
         },
         {
          "font": {
           "size": 16
          },
          "showarrow": false,
          "text": "Prerequisites Analysis",
          "x": 0.225,
          "xanchor": "center",
          "xref": "paper",
          "y": 0.375,
          "yanchor": "bottom",
          "yref": "paper"
         },
         {
          "font": {
           "size": 16
          },
          "showarrow": false,
          "text": "Credits Distribution",
          "x": 0.775,
          "xanchor": "center",
          "xref": "paper",
          "y": 0.375,
          "yanchor": "bottom",
          "yref": "paper"
         }
        ],
        "height": 800,
        "showlegend": false,
        "template": {
         "data": {
          "bar": [
           {
            "error_x": {
             "color": "#2a3f5f"
            },
            "error_y": {
             "color": "#2a3f5f"
            },
            "marker": {
             "line": {
              "color": "#E5ECF6",
              "width": 0.5
             },
             "pattern": {
              "fillmode": "overlay",
              "size": 10,
              "solidity": 0.2
             }
            },
            "type": "bar"
           }
          ],
          "barpolar": [
           {
            "marker": {
             "line": {
              "color": "#E5ECF6",
              "width": 0.5
             },
             "pattern": {
              "fillmode": "overlay",
              "size": 10,
              "solidity": 0.2
             }
            },
            "type": "barpolar"
           }
          ],
          "carpet": [
           {
            "aaxis": {
             "endlinecolor": "#2a3f5f",
             "gridcolor": "white",
             "linecolor": "white",
             "minorgridcolor": "white",
             "startlinecolor": "#2a3f5f"
            },
            "baxis": {
             "endlinecolor": "#2a3f5f",
             "gridcolor": "white",
             "linecolor": "white",
             "minorgridcolor": "white",
             "startlinecolor": "#2a3f5f"
            },
            "type": "carpet"
           }
          ],
          "choropleth": [
           {
            "colorbar": {
             "outlinewidth": 0,
             "ticks": ""
            },
            "type": "choropleth"
           }
          ],
          "contour": [
           {
            "colorbar": {
             "outlinewidth": 0,
             "ticks": ""
            },
            "colorscale": [
             [
              0,
              "#0d0887"
             ],
             [
              0.1111111111111111,
              "#46039f"
             ],
             [
              0.2222222222222222,
              "#7201a8"
             ],
             [
              0.3333333333333333,
              "#9c179e"
             ],
             [
              0.4444444444444444,
              "#bd3786"
             ],
             [
              0.5555555555555556,
              "#d8576b"
             ],
             [
              0.6666666666666666,
              "#ed7953"
             ],
             [
              0.7777777777777778,
              "#fb9f3a"
             ],
             [
              0.8888888888888888,
              "#fdca26"
             ],
             [
              1,
              "#f0f921"
             ]
            ],
            "type": "contour"
           }
          ],
          "contourcarpet": [
           {
            "colorbar": {
             "outlinewidth": 0,
             "ticks": ""
            },
            "type": "contourcarpet"
           }
          ],
          "heatmap": [
           {
            "colorbar": {
             "outlinewidth": 0,
             "ticks": ""
            },
            "colorscale": [
             [
              0,
              "#0d0887"
             ],
             [
              0.1111111111111111,
              "#46039f"
             ],
             [
              0.2222222222222222,
              "#7201a8"
             ],
             [
              0.3333333333333333,
              "#9c179e"
             ],
             [
              0.4444444444444444,
              "#bd3786"
             ],
             [
              0.5555555555555556,
              "#d8576b"
             ],
             [
              0.6666666666666666,
              "#ed7953"
             ],
             [
              0.7777777777777778,
              "#fb9f3a"
             ],
             [
              0.8888888888888888,
              "#fdca26"
             ],
             [
              1,
              "#f0f921"
             ]
            ],
            "type": "heatmap"
           }
          ],
          "heatmapgl": [
           {
            "colorbar": {
             "outlinewidth": 0,
             "ticks": ""
            },
            "colorscale": [
             [
              0,
              "#0d0887"
             ],
             [
              0.1111111111111111,
              "#46039f"
             ],
             [
              0.2222222222222222,
              "#7201a8"
             ],
             [
              0.3333333333333333,
              "#9c179e"
             ],
             [
              0.4444444444444444,
              "#bd3786"
             ],
             [
              0.5555555555555556,
              "#d8576b"
             ],
             [
              0.6666666666666666,
              "#ed7953"
             ],
             [
              0.7777777777777778,
              "#fb9f3a"
             ],
             [
              0.8888888888888888,
              "#fdca26"
             ],
             [
              1,
              "#f0f921"
             ]
            ],
            "type": "heatmapgl"
           }
          ],
          "histogram": [
           {
            "marker": {
             "pattern": {
              "fillmode": "overlay",
              "size": 10,
              "solidity": 0.2
             }
            },
            "type": "histogram"
           }
          ],
          "histogram2d": [
           {
            "colorbar": {
             "outlinewidth": 0,
             "ticks": ""
            },
            "colorscale": [
             [
              0,
              "#0d0887"
             ],
             [
              0.1111111111111111,
              "#46039f"
             ],
             [
              0.2222222222222222,
              "#7201a8"
             ],
             [
              0.3333333333333333,
              "#9c179e"
             ],
             [
              0.4444444444444444,
              "#bd3786"
             ],
             [
              0.5555555555555556,
              "#d8576b"
             ],
             [
              0.6666666666666666,
              "#ed7953"
             ],
             [
              0.7777777777777778,
              "#fb9f3a"
             ],
             [
              0.8888888888888888,
              "#fdca26"
             ],
             [
              1,
              "#f0f921"
             ]
            ],
            "type": "histogram2d"
           }
          ],
          "histogram2dcontour": [
           {
            "colorbar": {
             "outlinewidth": 0,
             "ticks": ""
            },
            "colorscale": [
             [
              0,
              "#0d0887"
             ],
             [
              0.1111111111111111,
              "#46039f"
             ],
             [
              0.2222222222222222,
              "#7201a8"
             ],
             [
              0.3333333333333333,
              "#9c179e"
             ],
             [
              0.4444444444444444,
              "#bd3786"
             ],
             [
              0.5555555555555556,
              "#d8576b"
             ],
             [
              0.6666666666666666,
              "#ed7953"
             ],
             [
              0.7777777777777778,
              "#fb9f3a"
             ],
             [
              0.8888888888888888,
              "#fdca26"
             ],
             [
              1,
              "#f0f921"
             ]
            ],
            "type": "histogram2dcontour"
           }
          ],
          "mesh3d": [
           {
            "colorbar": {
             "outlinewidth": 0,
             "ticks": ""
            },
            "type": "mesh3d"
           }
          ],
          "parcoords": [
           {
            "line": {
             "colorbar": {
              "outlinewidth": 0,
              "ticks": ""
             }
            },
            "type": "parcoords"
           }
          ],
          "pie": [
           {
            "automargin": true,
            "type": "pie"
           }
          ],
          "scatter": [
           {
            "fillpattern": {
             "fillmode": "overlay",
             "size": 10,
             "solidity": 0.2
            },
            "type": "scatter"
           }
          ],
          "scatter3d": [
           {
            "line": {
             "colorbar": {
              "outlinewidth": 0,
              "ticks": ""
             }
            },
            "marker": {
             "colorbar": {
              "outlinewidth": 0,
              "ticks": ""
             }
            },
            "type": "scatter3d"
           }
          ],
          "scattercarpet": [
           {
            "marker": {
             "colorbar": {
              "outlinewidth": 0,
              "ticks": ""
             }
            },
            "type": "scattercarpet"
           }
          ],
          "scattergeo": [
           {
            "marker": {
             "colorbar": {
              "outlinewidth": 0,
              "ticks": ""
             }
            },
            "type": "scattergeo"
           }
          ],
          "scattergl": [
           {
            "marker": {
             "colorbar": {
              "outlinewidth": 0,
              "ticks": ""
             }
            },
            "type": "scattergl"
           }
          ],
          "scattermapbox": [
           {
            "marker": {
             "colorbar": {
              "outlinewidth": 0,
              "ticks": ""
             }
            },
            "type": "scattermapbox"
           }
          ],
          "scatterpolar": [
           {
            "marker": {
             "colorbar": {
              "outlinewidth": 0,
              "ticks": ""
             }
            },
            "type": "scatterpolar"
           }
          ],
          "scatterpolargl": [
           {
            "marker": {
             "colorbar": {
              "outlinewidth": 0,
              "ticks": ""
             }
            },
            "type": "scatterpolargl"
           }
          ],
          "scatterternary": [
           {
            "marker": {
             "colorbar": {
              "outlinewidth": 0,
              "ticks": ""
             }
            },
            "type": "scatterternary"
           }
          ],
          "surface": [
           {
            "colorbar": {
             "outlinewidth": 0,
             "ticks": ""
            },
            "colorscale": [
             [
              0,
              "#0d0887"
             ],
             [
              0.1111111111111111,
              "#46039f"
             ],
             [
              0.2222222222222222,
              "#7201a8"
             ],
             [
              0.3333333333333333,
              "#9c179e"
             ],
             [
              0.4444444444444444,
              "#bd3786"
             ],
             [
              0.5555555555555556,
              "#d8576b"
             ],
             [
              0.6666666666666666,
              "#ed7953"
             ],
             [
              0.7777777777777778,
              "#fb9f3a"
             ],
             [
              0.8888888888888888,
              "#fdca26"
             ],
             [
              1,
              "#f0f921"
             ]
            ],
            "type": "surface"
           }
          ],
          "table": [
           {
            "cells": {
             "fill": {
              "color": "#EBF0F8"
             },
             "line": {
              "color": "white"
             }
            },
            "header": {
             "fill": {
              "color": "#C8D4E3"
             },
             "line": {
              "color": "white"
             }
            },
            "type": "table"
           }
          ]
         },
         "layout": {
          "annotationdefaults": {
           "arrowcolor": "#2a3f5f",
           "arrowhead": 0,
           "arrowwidth": 1
          },
          "autotypenumbers": "strict",
          "coloraxis": {
           "colorbar": {
            "outlinewidth": 0,
            "ticks": ""
           }
          },
          "colorscale": {
           "diverging": [
            [
             0,
             "#8e0152"
            ],
            [
             0.1,
             "#c51b7d"
            ],
            [
             0.2,
             "#de77ae"
            ],
            [
             0.3,
             "#f1b6da"
            ],
            [
             0.4,
             "#fde0ef"
            ],
            [
             0.5,
             "#f7f7f7"
            ],
            [
             0.6,
             "#e6f5d0"
            ],
            [
             0.7,
             "#b8e186"
            ],
            [
             0.8,
             "#7fbc41"
            ],
            [
             0.9,
             "#4d9221"
            ],
            [
             1,
             "#276419"
            ]
           ],
           "sequential": [
            [
             0,
             "#0d0887"
            ],
            [
             0.1111111111111111,
             "#46039f"
            ],
            [
             0.2222222222222222,
             "#7201a8"
            ],
            [
             0.3333333333333333,
             "#9c179e"
            ],
            [
             0.4444444444444444,
             "#bd3786"
            ],
            [
             0.5555555555555556,
             "#d8576b"
            ],
            [
             0.6666666666666666,
             "#ed7953"
            ],
            [
             0.7777777777777778,
             "#fb9f3a"
            ],
            [
             0.8888888888888888,
             "#fdca26"
            ],
            [
             1,
             "#f0f921"
            ]
           ],
           "sequentialminus": [
            [
             0,
             "#0d0887"
            ],
            [
             0.1111111111111111,
             "#46039f"
            ],
            [
             0.2222222222222222,
             "#7201a8"
            ],
            [
             0.3333333333333333,
             "#9c179e"
            ],
            [
             0.4444444444444444,
             "#bd3786"
            ],
            [
             0.5555555555555556,
             "#d8576b"
            ],
            [
             0.6666666666666666,
             "#ed7953"
            ],
            [
             0.7777777777777778,
             "#fb9f3a"
            ],
            [
             0.8888888888888888,
             "#fdca26"
            ],
            [
             1,
             "#f0f921"
            ]
           ]
          },
          "colorway": [
           "#636efa",
           "#EF553B",
           "#00cc96",
           "#ab63fa",
           "#FFA15A",
           "#19d3f3",
           "#FF6692",
           "#B6E880",
           "#FF97FF",
           "#FECB52"
          ],
          "font": {
           "color": "#2a3f5f"
          },
          "geo": {
           "bgcolor": "white",
           "lakecolor": "white",
           "landcolor": "#E5ECF6",
           "showlakes": true,
           "showland": true,
           "subunitcolor": "white"
          },
          "hoverlabel": {
           "align": "left"
          },
          "hovermode": "closest",
          "mapbox": {
           "style": "light"
          },
          "paper_bgcolor": "white",
          "plot_bgcolor": "#E5ECF6",
          "polar": {
           "angularaxis": {
            "gridcolor": "white",
            "linecolor": "white",
            "ticks": ""
           },
           "bgcolor": "#E5ECF6",
           "radialaxis": {
            "gridcolor": "white",
            "linecolor": "white",
            "ticks": ""
           }
          },
          "scene": {
           "xaxis": {
            "backgroundcolor": "#E5ECF6",
            "gridcolor": "white",
            "gridwidth": 2,
            "linecolor": "white",
            "showbackground": true,
            "ticks": "",
            "zerolinecolor": "white"
           },
           "yaxis": {
            "backgroundcolor": "#E5ECF6",
            "gridcolor": "white",
            "gridwidth": 2,
            "linecolor": "white",
            "showbackground": true,
            "ticks": "",
            "zerolinecolor": "white"
           },
           "zaxis": {
            "backgroundcolor": "#E5ECF6",
            "gridcolor": "white",
            "gridwidth": 2,
            "linecolor": "white",
            "showbackground": true,
            "ticks": "",
            "zerolinecolor": "white"
           }
          },
          "shapedefaults": {
           "line": {
            "color": "#2a3f5f"
           }
          },
          "ternary": {
           "aaxis": {
            "gridcolor": "white",
            "linecolor": "white",
            "ticks": ""
           },
           "baxis": {
            "gridcolor": "white",
            "linecolor": "white",
            "ticks": ""
           },
           "bgcolor": "#E5ECF6",
           "caxis": {
            "gridcolor": "white",
            "linecolor": "white",
            "ticks": ""
           }
          },
          "title": {
           "x": 0.05
          },
          "xaxis": {
           "automargin": true,
           "gridcolor": "white",
           "linecolor": "white",
           "ticks": "",
           "title": {
            "standoff": 15
           },
           "zerolinecolor": "white",
           "zerolinewidth": 2
          },
          "yaxis": {
           "automargin": true,
           "gridcolor": "white",
           "linecolor": "white",
           "ticks": "",
           "title": {
            "standoff": 15
           },
           "zerolinecolor": "white",
           "zerolinewidth": 2
          }
         }
        },
        "title": {
         "text": "Course Statistics Dashboard"
        },
        "xaxis": {
         "anchor": "y",
         "domain": [
          0.55,
          1
         ]
        },
        "xaxis2": {
         "anchor": "y2",
         "domain": [
          0,
          0.45
         ]
        },
        "xaxis3": {
         "anchor": "y3",
         "domain": [
          0.55,
          1
         ]
        },
        "yaxis": {
         "anchor": "x",
         "domain": [
          0.625,
          1
         ]
        },
        "yaxis2": {
         "anchor": "x2",
         "domain": [
          0,
          0.375
         ]
        },
        "yaxis3": {
         "anchor": "x3",
         "domain": [
          0,
          0.375
         ]
        }
       }
      }
     },
     "metadata": {},
     "output_type": "display_data"
    },
    {
     "name": "stdout",
     "output_type": "stream",
     "text": [
      "\n",
      "🔗 MOST CONNECTED COURSES (by prerequisites required)\n",
      "Course                        Name       Domain  Total_Prerequisites\n",
      " CS312               Deep Learning           AI                    8\n",
      " CS313 Natural Language Processing           AI                    8\n",
      " CS314             Computer Vision           AI                    8\n",
      " CS311            Machine Learning           AI                    7\n",
      " CS315                    Robotics           AI                    7\n",
      "SEC302                Cryptography     Security                    5\n",
      " CS310     Artificial Intelligence           AI                    4\n",
      " DS301                 Data Mining Data Science                    4\n",
      " DS302          Big Data Analytics Data Science                    4\n",
      "SEC303            Network Security     Security                    4\n",
      "\n",
      "🚪 ENTRY-LEVEL COURSES (no prerequisites)\n",
      " Course                 Name               Domain\n",
      "  CS101 Intro to Programming Software Engineering\n",
      "MATH101 Discrete Mathematics               Theory\n",
      "MATH201       Linear Algebra               Theory\n",
      "MATH202           Statistics         Data Science\n"
     ]
    }
   ],
   "source": [
    "# Create visualizations for course statistics\n",
    "fig = make_subplots(\n",
    "    rows=2, cols=2,\n",
    "    subplot_titles=['Domain Distribution', 'Difficulty Distribution', \n",
    "                   'Prerequisites Analysis', 'Credits Distribution'],\n",
    "    specs=[[{\"type\": \"pie\"}, {\"type\": \"bar\"}],\n",
    "           [{\"type\": \"box\"}, {\"type\": \"histogram\"}]]\n",
    ")\n",
    "\n",
    "# Domain distribution pie chart\n",
    "domain_counts = courses_df['Domain'].value_counts()\n",
    "fig.add_trace(go.Pie(\n",
    "    labels=domain_counts.index, values=domain_counts.values,\n",
    "    name=\"Domain Distribution\", hole=0.3\n",
    "), row=1, col=1)\n",
    "\n",
    "# Difficulty distribution bar chart\n",
    "difficulty_counts = courses_df['Difficulty'].value_counts()\n",
    "fig.add_trace(go.Bar(\n",
    "    x=difficulty_counts.index, y=difficulty_counts.values,\n",
    "    name=\"Difficulty Distribution\", marker_color='lightblue'\n",
    "), row=1, col=2)\n",
    "\n",
    "# Prerequisites analysis box plot\n",
    "fig.add_trace(go.Box(\n",
    "    y=courses_df['Direct_Prerequisites'], name=\"Direct\",\n",
    "    marker_color='lightgreen'\n",
    "), row=2, col=1)\n",
    "fig.add_trace(go.Box(\n",
    "    y=courses_df['Total_Prerequisites'], name=\"Total\",\n",
    "    marker_color='orange'\n",
    "), row=2, col=1)\n",
    "\n",
    "# Credits distribution histogram\n",
    "fig.add_trace(go.Histogram(\n",
    "    x=courses_df['Credits'], name=\"Credits\",\n",
    "    marker_color='lightcoral', nbinsx=5\n",
    "), row=2, col=2)\n",
    "\n",
    "fig.update_layout(\n",
    "    title_text=\"Course Statistics Dashboard\",\n",
    "    height=800, showlegend=False\n",
    ")\n",
    "\n",
    "fig.show()\n",
    "\n",
    "# Additional analysis: Most connected courses\n",
    "print(\"\\n🔗 MOST CONNECTED COURSES (by prerequisites required)\")\n",
    "top_prereq_courses = courses_df.nlargest(10, 'Total_Prerequisites')[['Course', 'Name', 'Domain', 'Total_Prerequisites']]\n",
    "print(top_prereq_courses.to_string(index=False))\n",
    "\n",
    "print(\"\\n🚪 ENTRY-LEVEL COURSES (no prerequisites)\")\n",
    "entry_courses = courses_df[courses_df['Direct_Prerequisites'] == 0][['Course', 'Name', 'Domain']]\n",
    "print(entry_courses.to_string(index=False))"
   ]
  },
  {
   "cell_type": "markdown",
   "id": "626ff9e2",
   "metadata": {},
   "source": [
    "## 3. Prerequisites Dependency Analysis\n",
    "\n",
    "Understanding the prerequisite dependencies is crucial for course scheduling and graduation planning."
   ]
  },
  {
   "cell_type": "code",
   "execution_count": 48,
   "id": "da4f3ac3",
   "metadata": {},
   "outputs": [
    {
     "name": "stdout",
     "output_type": "stream",
     "text": [
      "Analyzing prerequisite dependencies...\n",
      "🔍 GRAPH ANALYSIS METRICS\n",
      "Graph Density: 0.033\n",
      "Is DAG (Directed Acyclic Graph): True\n",
      "Number of Weakly Connected Components: 1\n",
      "✓ Topological ordering exists (no circular dependencies)\n",
      "First 10 courses in valid sequence: ['CS101', 'MATH101', 'MATH201', 'MATH202', 'CS102', 'CS210', 'CS301', 'DS304', 'CS201', 'CS250']\n",
      "\n",
      "📊 COURSE LEVEL DISTRIBUTION\n",
      "  Term 1: 4 courses\n",
      "  Term 2: 4 courses\n",
      "  Term 3: 8 courses\n",
      "  Term 4: 10 courses\n",
      "  Term 5: 5 courses\n",
      "  Term 6: 3 courses\n",
      "\n",
      "🛤️ CRITICAL PATHS ANALYSIS\n",
      "Courses with longest prerequisite chains:\n",
      "  CS312 (Deep Learning): 5 prerequisites\n",
      "  CS313 (Natural Language Processing): 5 prerequisites\n",
      "  CS314 (Computer Vision): 5 prerequisites\n",
      "  SEC302 (Cryptography): 4 prerequisites\n",
      "  SEC303 (Network Security): 4 prerequisites\n",
      "  SEC304 (Ethical Hacking): 4 prerequisites\n",
      "  CS315 (Robotics): 3 prerequisites\n",
      "  DS301 (Data Mining): 3 prerequisites\n",
      "  DS302 (Big Data Analytics): 3 prerequisites\n",
      "  SE301 (Advanced Programming): 3 prerequisites\n",
      "\n",
      "🔧 BOTTLENECK COURSES (enable many other courses)\n",
      "  CS101 (Intro to Programming): enables 28 courses\n",
      "  CS102 (Data Structures): enables 18 courses\n",
      "  MATH101 (Discrete Mathematics): enables 10 courses\n",
      "  CS210 (Computer Architecture): enables 9 courses\n",
      "  CS201 (Algorithms): enables 7 courses\n",
      "  MATH202 (Statistics): enables 6 courses\n",
      "  MATH201 (Linear Algebra): enables 5 courses\n",
      "  CS310 (Artificial Intelligence): enables 5 courses\n",
      "  CS240 (Computer Networks): enables 4 courses\n",
      "  CS220 (Operating Systems): enables 3 courses\n"
     ]
    }
   ],
   "source": [
    "# Prerequisites Dependency Analysis\n",
    "print(\"Analyzing prerequisite dependencies...\")\n",
    "\n",
    "G = curriculum.graph\n",
    "\n",
    "# Calculate various graph metrics\n",
    "print(\"🔍 GRAPH ANALYSIS METRICS\")\n",
    "print(f\"Graph Density: {nx.density(G):.3f}\")\n",
    "print(f\"Is DAG (Directed Acyclic Graph): {nx.is_directed_acyclic_graph(G)}\")\n",
    "print(f\"Number of Weakly Connected Components: {nx.number_weakly_connected_components(G)}\")\n",
    "\n",
    "# Find topological ordering (valid course sequence)\n",
    "if nx.is_directed_acyclic_graph(G):\n",
    "    topo_order = list(nx.topological_sort(G))\n",
    "    print(f\"✓ Topological ordering exists (no circular dependencies)\")\n",
    "    print(f\"First 10 courses in valid sequence: {topo_order[:10]}\")\n",
    "else:\n",
    "    print(\"⚠️ Circular dependencies detected!\")\n",
    "\n",
    "# Calculate course levels (minimum term to take each course)\n",
    "course_levels = {}\n",
    "for node in topo_order:\n",
    "    prereqs = curriculum.get_prerequisites(node)\n",
    "    if not prereqs:\n",
    "        course_levels[node] = 1  # First term\n",
    "    else:\n",
    "        max_prereq_level = max(course_levels.get(prereq, 0) for prereq in prereqs)\n",
    "        course_levels[node] = max_prereq_level + 1\n",
    "\n",
    "# Add levels to dataframe\n",
    "courses_df['Min_Term'] = courses_df['Course'].map(course_levels)\n",
    "\n",
    "print(f\"\\n📊 COURSE LEVEL DISTRIBUTION\")\n",
    "level_counts = courses_df['Min_Term'].value_counts().sort_index()\n",
    "for level, count in level_counts.items():\n",
    "    print(f\"  Term {level}: {count} courses\")\n",
    "\n",
    "# Find critical paths (longest prerequisite chains)\n",
    "print(f\"\\n🛤️ CRITICAL PATHS ANALYSIS\")\n",
    "longest_paths = []\n",
    "for node in G.nodes():\n",
    "    if G.out_degree(node) == 0:  # Leaf nodes (advanced courses)\n",
    "        try:\n",
    "            # Find longest path to this node\n",
    "            path_lengths = nx.single_source_shortest_path_length(G.reverse(), node)\n",
    "            max_length = max(path_lengths.values())\n",
    "            longest_paths.append((node, max_length))\n",
    "        except:\n",
    "            continue\n",
    "\n",
    "longest_paths.sort(key=lambda x: x[1], reverse=True)\n",
    "print(\"Courses with longest prerequisite chains:\")\n",
    "for course, length in longest_paths[:10]:\n",
    "    course_info = curriculum.get_course_info(course)\n",
    "    print(f\"  {course} ({course_info.get('name', 'Unknown')}): {length} prerequisites\")\n",
    "\n",
    "# Identify bottleneck courses (many courses depend on them)\n",
    "bottlenecks = []\n",
    "for node in G.nodes():\n",
    "    dependent_courses = len(list(nx.descendants(G, node)))\n",
    "    if dependent_courses > 0:\n",
    "        bottlenecks.append((node, dependent_courses))\n",
    "\n",
    "bottlenecks.sort(key=lambda x: x[1], reverse=True)\n",
    "print(f\"\\n🔧 BOTTLENECK COURSES (enable many other courses)\")\n",
    "for course, dependents in bottlenecks[:10]:\n",
    "    course_info = curriculum.get_course_info(course)\n",
    "    print(f\"  {course} ({course_info.get('name', 'Unknown')}): enables {dependents} courses\")"
   ]
  },
  {
   "cell_type": "markdown",
   "id": "e58b183f",
   "metadata": {},
   "source": [
    "## 4. Interactive Course Explorer\n",
    "\n",
    "Let's create interactive tools to explore specific courses and their relationships."
   ]
  },
  {
   "cell_type": "code",
   "execution_count": 49,
   "id": "7d63bd91",
   "metadata": {},
   "outputs": [
    {
     "name": "stdout",
     "output_type": "stream",
     "text": [
      "🔍 INTERACTIVE EXPLORATION TOOLS LOADED\n",
      "\n",
      "Available functions:\n",
      "  explore_course('CS311') - Detailed course analysis\n",
      "  explore_domain('AI') - Analyze all AI courses\n",
      "  find_graduation_path() - Generate graduation plan\n",
      "\n",
      "Let's try some examples:\n",
      "\n",
      "============================================================\n",
      "🎓 COURSE ANALYSIS: CS311\n",
      "Name: Machine Learning\n",
      "Domain: AI\n",
      "Difficulty: Advanced\n",
      "Credits: 3\n",
      "Minimum Term: 5\n",
      "\n",
      "📋 PREREQUISITES\n",
      "Direct Prerequisites (3): MATH201, MATH202, CS310\n",
      "All Prerequisites (7): CS101, CS102, CS201, CS310, MATH101, MATH201, MATH202\n",
      "\n",
      "🔓 ENABLES\n",
      "Direct Enables (3): CS312, CS313, CS314\n",
      "All Enables (3): CS312, CS313, CS314\n",
      "\n",
      "============================================================\n",
      "🎯 DOMAIN ANALYSIS: AI\n",
      "Total Courses: 6\n",
      "\n",
      "📊 BREAKDOWN BY DIFFICULTY\n",
      "Advanced: 6 courses\n",
      "  Courses: CS310, CS311, CS312, CS313, CS314, CS315\n",
      "\n",
      "🛤️ SUGGESTED PROGRESSION PATH\n",
      "Term 4: CS310\n",
      "Term 5: CS311, CS315\n",
      "Term 6: CS312, CS313, CS314\n",
      "\n",
      "============================================================\n",
      "🎓 GRADUATION PATH ANALYSIS\n",
      "Completed Courses: 4\n",
      "Remaining Courses: 30\n",
      "\n",
      "📅 SUGGESTED GRADUATION SCHEDULE\n",
      "Term 1: CS230, DS302, MATH202, DS301\n",
      "  - CS230: Database Systems (Data Science)\n",
      "  - DS302: Big Data Analytics (Data Science)\n",
      "  - MATH202: Statistics (Data Science)\n",
      "  - DS301: Data Mining (Data Science)\n",
      "Term 2: DS304, DS303, CS301, CS201\n",
      "  - DS304: Statistical Learning (Data Science)\n",
      "  - DS303: Data Visualization (Data Science)\n",
      "  - CS301: Theory of Computation (Theory)\n",
      "  - CS201: Algorithms (Theory)\n",
      "Term 3: CS310, CS311, CS312, CS313\n",
      "  - CS310: Artificial Intelligence (AI)\n",
      "  - CS311: Machine Learning (AI)\n",
      "  - CS312: Deep Learning (AI)\n",
      "  - CS313: Natural Language Processing (AI)\n",
      "Term 4: CS314, CS402, CS210, CS220\n",
      "Term 5: CS315, CS240, SE304, CS401\n",
      "Term 6: CS250, SE301, SEC301, SEC302\n",
      "Term 7: SEC303, SEC304, SE302, SE303\n",
      "Term 8: CS403, CS404\n"
     ]
    }
   ],
   "source": [
    "# Interactive Course Explorer Functions\n",
    "\n",
    "def explore_course(course_code):\n",
    "    \"\"\"Detailed exploration of a specific course\"\"\"\n",
    "    if course_code not in curriculum.graph.nodes():\n",
    "        print(f\"❌ Course {course_code} not found!\")\n",
    "        return\n",
    "    \n",
    "    course_info = curriculum.get_course_info(course_code)\n",
    "    prereqs = curriculum.get_prerequisites(course_code)\n",
    "    all_prereqs = curriculum.get_all_prerequisites(course_code)\n",
    "    \n",
    "    # Find courses that have this as prerequisite\n",
    "    enables = [node for node in curriculum.graph.nodes() \n",
    "               if course_code in curriculum.get_prerequisites(node)]\n",
    "    \n",
    "    # Find all courses enabled by taking this course\n",
    "    all_enables = list(nx.descendants(curriculum.graph, course_code))\n",
    "    \n",
    "    print(f\"🎓 COURSE ANALYSIS: {course_code}\")\n",
    "    print(f\"Name: {course_info.get('name', 'Unknown')}\")\n",
    "    print(f\"Domain: {course_info.get('domain', 'Unknown')}\")\n",
    "    print(f\"Difficulty: {course_info.get('difficulty', 'Unknown')}\")\n",
    "    print(f\"Credits: {course_info.get('credits', 3)}\")\n",
    "    print(f\"Minimum Term: {course_levels.get(course_code, 'Unknown')}\")\n",
    "    \n",
    "    print(f\"\\n📋 PREREQUISITES\")\n",
    "    print(f\"Direct Prerequisites ({len(prereqs)}): {', '.join(prereqs) if prereqs else 'None'}\")\n",
    "    print(f\"All Prerequisites ({len(all_prereqs)}): {', '.join(sorted(all_prereqs)) if all_prereqs else 'None'}\")\n",
    "    \n",
    "    print(f\"\\n🔓 ENABLES\")\n",
    "    print(f\"Direct Enables ({len(enables)}): {', '.join(enables) if enables else 'None'}\")\n",
    "    print(f\"All Enables ({len(all_enables)}): {', '.join(sorted(all_enables)[:10]) if all_enables else 'None'}\")\n",
    "    if len(all_enables) > 10:\n",
    "        print(f\"  ... and {len(all_enables) - 10} more courses\")\n",
    "\n",
    "def explore_domain(domain):\n",
    "    \"\"\"Explore all courses in a specific domain\"\"\"\n",
    "    domain_courses = curriculum.get_courses_by_domain(domain)\n",
    "    \n",
    "    if not domain_courses:\n",
    "        print(f\"❌ No courses found in domain: {domain}\")\n",
    "        return\n",
    "    \n",
    "    print(f\"🎯 DOMAIN ANALYSIS: {domain}\")\n",
    "    print(f\"Total Courses: {len(domain_courses)}\")\n",
    "    \n",
    "    # Group by difficulty\n",
    "    domain_df = courses_df[courses_df['Domain'] == domain]\n",
    "    difficulty_groups = domain_df.groupby('Difficulty')\n",
    "    \n",
    "    print(f\"\\n📊 BREAKDOWN BY DIFFICULTY\")\n",
    "    for difficulty, group in difficulty_groups:\n",
    "        print(f\"{difficulty}: {len(group)} courses\")\n",
    "        courses_list = group['Course'].tolist()\n",
    "        print(f\"  Courses: {', '.join(courses_list)}\")\n",
    "    \n",
    "    # Show progression path\n",
    "    domain_by_level = domain_df.groupby('Min_Term')['Course'].apply(list).to_dict()\n",
    "    print(f\"\\n🛤️ SUGGESTED PROGRESSION PATH\")\n",
    "    for term in sorted(domain_by_level.keys()):\n",
    "        courses = domain_by_level[term]\n",
    "        print(f\"Term {term}: {', '.join(courses)}\")\n",
    "\n",
    "def find_graduation_path(completed_courses=None):\n",
    "    \"\"\"Find a path to graduation\"\"\"\n",
    "    if completed_courses is None:\n",
    "        completed_courses = set()\n",
    "    \n",
    "    remaining = curriculum.get_graduation_path(completed_courses)\n",
    "    \n",
    "    print(f\"🎓 GRADUATION PATH ANALYSIS\")\n",
    "    print(f\"Completed Courses: {len(completed_courses)}\")\n",
    "    print(f\"Remaining Courses: {len(remaining)}\")\n",
    "    \n",
    "    if remaining:\n",
    "        # Group by estimated term\n",
    "        path_by_term = {}\n",
    "        temp_completed = completed_courses.copy()\n",
    "        \n",
    "        for i, course in enumerate(remaining):\n",
    "            term = (i // 4) + 1  # Assume 4 courses per term\n",
    "            if term not in path_by_term:\n",
    "                path_by_term[term] = []\n",
    "            path_by_term[term].append(course)\n",
    "        \n",
    "        print(f\"\\n📅 SUGGESTED GRADUATION SCHEDULE\")\n",
    "        for term in sorted(path_by_term.keys()):\n",
    "            courses = path_by_term[term]\n",
    "            print(f\"Term {term}: {', '.join(courses)}\")\n",
    "            if term <= 3:  # Show details for first few terms\n",
    "                for course in courses:\n",
    "                    info = curriculum.get_course_info(course)\n",
    "                    print(f\"  - {course}: {info.get('name', 'Unknown')} ({info.get('domain', 'Unknown')})\")\n",
    "\n",
    "# Example usage\n",
    "print(\"🔍 INTERACTIVE EXPLORATION TOOLS LOADED\")\n",
    "print(\"\\nAvailable functions:\")\n",
    "print(\"  explore_course('CS311') - Detailed course analysis\")\n",
    "print(\"  explore_domain('AI') - Analyze all AI courses\")\n",
    "print(\"  find_graduation_path() - Generate graduation plan\")\n",
    "print(\"\\nLet's try some examples:\")\n",
    "\n",
    "# Example explorations\n",
    "print(\"\\n\" + \"=\"*60)\n",
    "explore_course('CS311')  # Machine Learning\n",
    "\n",
    "print(\"\\n\" + \"=\"*60)\n",
    "explore_domain('AI')\n",
    "\n",
    "print(\"\\n\" + \"=\"*60)\n",
    "# Example with some completed courses\n",
    "sample_completed = {'CS101', 'CS102', 'MATH101', 'MATH201'}\n",
    "find_graduation_path(sample_completed)"
   ]
  },
  {
   "cell_type": "markdown",
   "id": "dd4dbf5b",
   "metadata": {},
   "source": [
    "## 5. Summary and Next Steps\n",
    "\n",
    "### Key Findings\n",
    "\n",
    "1. **Curriculum Structure**: Our computer science curriculum contains 32 courses across 6 domains with a well-structured prerequisite network.\n",
    "\n",
    "2. **Domain Balance**: The curriculum provides good coverage across all major CS areas, with emphasis on practical skills (Software Engineering) and foundational theory.\n",
    "\n",
    "3. **Prerequisite Dependencies**: The curriculum forms a proper DAG (Directed Acyclic Graph) with no circular dependencies, enabling clear progression paths.\n",
    "\n",
    "4. **Critical Courses**: Foundational courses like CS101, CS102, and MATH101 are bottlenecks that enable many advanced courses.\n",
    "\n",
    "### Recommendations for Academic Advisors\n",
    "\n",
    "1. **Early Focus**: Students should prioritize foundational courses (CS101, CS102, MATH101) early as they unlock many advanced options.\n",
    "\n",
    "2. **Domain Specialization**: Students can begin specializing in their area of interest (AI, Security, Data Science) from Term 3 onwards.\n",
    "\n",
    "3. **Balanced Progression**: The curriculum allows for balanced progression with 3-4 courses per term leading to graduation in 8 terms.\n",
    "\n",
    "### Next Steps\n",
    "\n",
    "- **Student Simulation**: Analyze how different student profiles progress through this curriculum\n",
    "- **Recommendation System**: Use this analysis to build personalized course recommendation algorithms\n",
    "- **Optimization**: Identify opportunities to reduce bottlenecks and improve curriculum flow\n",
    "\n",
    "---\n",
    "\n",
    "*Continue to the next notebook: `student_simulation.ipynb` for student cohort analysis*"
   ]
  }
 ],
 "metadata": {
  "kernelspec": {
   "display_name": "base",
   "language": "python",
   "name": "python3"
  },
  "language_info": {
   "codemirror_mode": {
    "name": "ipython",
    "version": 3
   },
   "file_extension": ".py",
   "mimetype": "text/x-python",
   "name": "python",
   "nbconvert_exporter": "python",
   "pygments_lexer": "ipython3",
   "version": "3.12.7"
  }
 },
 "nbformat": 4,
 "nbformat_minor": 5
}
